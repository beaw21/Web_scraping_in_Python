{
 "metadata": {
  "language_info": {
   "codemirror_mode": {
    "name": "ipython",
    "version": 3
   },
   "file_extension": ".py",
   "mimetype": "text/x-python",
   "name": "python",
   "nbconvert_exporter": "python",
   "pygments_lexer": "ipython3",
   "version": "3.8.8"
  },
  "orig_nbformat": 4,
  "kernelspec": {
   "name": "python3",
   "display_name": "Python 3.8.8 64-bit ('base': conda)"
  },
  "interpreter": {
   "hash": "c5e48f84046969b800ff52f6d80523bcd1ca3fb1a99f1449e4197bf6c73dc096"
  }
 },
 "nbformat": 4,
 "nbformat_minor": 2,
 "cells": [
  {
   "cell_type": "code",
   "execution_count": 1,
   "source": [
    "import json\r\n",
    "import requests\r\n",
    "import pandas as pd"
   ],
   "outputs": [],
   "metadata": {}
  },
  {
   "cell_type": "code",
   "execution_count": 2,
   "source": [
    "data_compare = requests.get('https://api.github.com/repos/apache/flink/compare/release-1.12...release-1.13?state=closed')"
   ],
   "outputs": [],
   "metadata": {}
  },
  {
   "cell_type": "code",
   "execution_count": 3,
   "source": [
    "x = data_compare.json()"
   ],
   "outputs": [],
   "metadata": {}
  },
  {
   "cell_type": "code",
   "execution_count": 4,
   "source": [
    "df = pd.DataFrame.from_dict(x , orient='index', columns=['A'])"
   ],
   "outputs": [],
   "metadata": {}
  },
  {
   "cell_type": "code",
   "execution_count": 5,
   "source": [
    "df"
   ],
   "outputs": [
    {
     "output_type": "execute_result",
     "data": {
      "text/plain": [
       "                                                                   A\n",
       "url                https://api.github.com/repos/apache/flink/comp...\n",
       "html_url           https://github.com/apache/flink/compare/releas...\n",
       "permalink_url      https://github.com/apache/flink/compare/apache...\n",
       "diff_url           https://github.com/apache/flink/compare/releas...\n",
       "patch_url          https://github.com/apache/flink/compare/releas...\n",
       "base_commit        {'sha': 'c8f4d8038e345ae3083ce5c32d5f54ecd8127...\n",
       "merge_base_commit  {'sha': 'c008907d2a629449c8d0ad9725d13b0604fc2...\n",
       "status                                                      diverged\n",
       "ahead_by                                                        2320\n",
       "behind_by                                                        680\n",
       "total_commits                                                   2320\n",
       "commits            [{'sha': '60b604425b97e759c0d3d8f62b3a24d656dd...\n",
       "files              [{'sha': '2e260749d2647a7d8f1a4f3e487cb0ec2943..."
      ],
      "text/html": [
       "<div>\n",
       "<style scoped>\n",
       "    .dataframe tbody tr th:only-of-type {\n",
       "        vertical-align: middle;\n",
       "    }\n",
       "\n",
       "    .dataframe tbody tr th {\n",
       "        vertical-align: top;\n",
       "    }\n",
       "\n",
       "    .dataframe thead th {\n",
       "        text-align: right;\n",
       "    }\n",
       "</style>\n",
       "<table border=\"1\" class=\"dataframe\">\n",
       "  <thead>\n",
       "    <tr style=\"text-align: right;\">\n",
       "      <th></th>\n",
       "      <th>A</th>\n",
       "    </tr>\n",
       "  </thead>\n",
       "  <tbody>\n",
       "    <tr>\n",
       "      <th>url</th>\n",
       "      <td>https://api.github.com/repos/apache/flink/comp...</td>\n",
       "    </tr>\n",
       "    <tr>\n",
       "      <th>html_url</th>\n",
       "      <td>https://github.com/apache/flink/compare/releas...</td>\n",
       "    </tr>\n",
       "    <tr>\n",
       "      <th>permalink_url</th>\n",
       "      <td>https://github.com/apache/flink/compare/apache...</td>\n",
       "    </tr>\n",
       "    <tr>\n",
       "      <th>diff_url</th>\n",
       "      <td>https://github.com/apache/flink/compare/releas...</td>\n",
       "    </tr>\n",
       "    <tr>\n",
       "      <th>patch_url</th>\n",
       "      <td>https://github.com/apache/flink/compare/releas...</td>\n",
       "    </tr>\n",
       "    <tr>\n",
       "      <th>base_commit</th>\n",
       "      <td>{'sha': 'c8f4d8038e345ae3083ce5c32d5f54ecd8127...</td>\n",
       "    </tr>\n",
       "    <tr>\n",
       "      <th>merge_base_commit</th>\n",
       "      <td>{'sha': 'c008907d2a629449c8d0ad9725d13b0604fc2...</td>\n",
       "    </tr>\n",
       "    <tr>\n",
       "      <th>status</th>\n",
       "      <td>diverged</td>\n",
       "    </tr>\n",
       "    <tr>\n",
       "      <th>ahead_by</th>\n",
       "      <td>2320</td>\n",
       "    </tr>\n",
       "    <tr>\n",
       "      <th>behind_by</th>\n",
       "      <td>680</td>\n",
       "    </tr>\n",
       "    <tr>\n",
       "      <th>total_commits</th>\n",
       "      <td>2320</td>\n",
       "    </tr>\n",
       "    <tr>\n",
       "      <th>commits</th>\n",
       "      <td>[{'sha': '60b604425b97e759c0d3d8f62b3a24d656dd...</td>\n",
       "    </tr>\n",
       "    <tr>\n",
       "      <th>files</th>\n",
       "      <td>[{'sha': '2e260749d2647a7d8f1a4f3e487cb0ec2943...</td>\n",
       "    </tr>\n",
       "  </tbody>\n",
       "</table>\n",
       "</div>"
      ]
     },
     "metadata": {},
     "execution_count": 5
    }
   ],
   "metadata": {}
  }
 ]
}