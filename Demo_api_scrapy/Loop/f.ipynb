{
 "cells": [
  {
   "cell_type": "code",
   "execution_count": 48,
   "metadata": {},
   "outputs": [],
   "source": [
    "import requests\n",
    "import json\n",
    "import pandas as pd\n",
    "import ast"
   ]
  },
  {
   "cell_type": "code",
   "execution_count": 49,
   "metadata": {},
   "outputs": [],
   "source": [
    "rd_df = pd.read_csv('commit_of_all_pull_hive.csv')"
   ]
  },
  {
   "cell_type": "code",
   "execution_count": 50,
   "metadata": {},
   "outputs": [],
   "source": [
    "df = pd.DataFrame(rd_df)"
   ]
  },
  {
   "cell_type": "code",
   "execution_count": 51,
   "outputs": [
    {
     "name": "stdout",
     "output_type": "stream",
     "text": [
      "       Unnamed: 0                                              index  \\\n",
      "0               0  https://api.github.com/repos/apache/hive/pulls...   \n",
      "1               1  https://api.github.com/repos/apache/hive/pulls...   \n",
      "2               2  https://api.github.com/repos/apache/hive/pulls...   \n",
      "3               3  https://api.github.com/repos/apache/hive/pulls...   \n",
      "4               4  https://api.github.com/repos/apache/hive/pulls...   \n",
      "...           ...                                                ...   \n",
      "13517       13517  https://api.github.com/repos/apache/hive/pulls...   \n",
      "13518       13518  https://api.github.com/repos/apache/hive/pulls...   \n",
      "13519       13519  https://api.github.com/repos/apache/hive/pulls...   \n",
      "13520       13520  https://api.github.com/repos/apache/hive/pulls...   \n",
      "13521       13521  https://api.github.com/repos/apache/hive/pulls...   \n",
      "\n",
      "                                            sha  \\\n",
      "0      88e741d9aad29c4589ee97a079754eced108b44d   \n",
      "1      7b43c658447fa46f040a2543a2288b7e256b123a   \n",
      "2      bdc3ee1f67b90e67fc20cd867cf533cf52bb93ee   \n",
      "3      e598611949cf230cef023fd70f23255decb57693   \n",
      "4      58a16dc65dbd7687e8a91f9656038b8d662b01d7   \n",
      "...                                         ...   \n",
      "13517  b04fae4b1e06fadab75976f7f54686eb42554022   \n",
      "13518  df6bc4d1026b5f17feb811fd50292f81df86b71b   \n",
      "13519  6122438708e3054baa24ce0e13d12f9405272fb0   \n",
      "13520  1f6037abcba91187700408a624d0f2780d2a016a   \n",
      "13521  b35a5c9702c6b997b42949db848fbcfd7ae6712d   \n",
      "\n",
      "                                                 node_id  \\\n",
      "0      C_kwDOI7Wp89oAKDg4ZTc0MWQ5YWFkMjljNDU4OWVlOTdh...   \n",
      "1      C_kwDOG5Me3toAKDdiNDNjNjU4NDQ3ZmE0NmYwNDBhMjU0...   \n",
      "2      C_kwDOG5Me3toAKGJkYzNlZTFmNjdiOTBlNjdmYzIwY2Q4...   \n",
      "3      C_kwDOG5Me3toAKGU1OTg2MTE5NDljZjIzMGNlZjAyM2Zk...   \n",
      "4      C_kwDOG5Me3toAKDU4YTE2ZGM2NWRiZDc2ODdlOGE5MWY5...   \n",
      "...                                                  ...   \n",
      "13517  MDY6Q29tbWl0MjA2NDQ0OmIwNGZhZTRiMWUwNmZhZGFiNz...   \n",
      "13518  MDY6Q29tbWl0MjE4OTk0ODpkZjZiYzRkMTAyNmI1ZjE3Zm...   \n",
      "13519  MDY6Q29tbWl0MjE4OTk0ODo2MTIyNDM4NzA4ZTMwNTRiYW...   \n",
      "13520  MDY6Q29tbWl0MjA0NzI5ODoxZjYwMzdhYmNiYTkxMTg3Nz...   \n",
      "13521  MDY6Q29tbWl0MjA0NzI5ODpiMzVhNWM5NzAyYzZiOTk3Yj...   \n",
      "\n",
      "                                                     url  \\\n",
      "0      https://api.github.com/repos/apache/hive/commi...   \n",
      "1      https://api.github.com/repos/apache/hive/commi...   \n",
      "2      https://api.github.com/repos/apache/hive/commi...   \n",
      "3      https://api.github.com/repos/apache/hive/commi...   \n",
      "4      https://api.github.com/repos/apache/hive/commi...   \n",
      "...                                                  ...   \n",
      "13517  https://api.github.com/repos/apache/hive/commi...   \n",
      "13518  https://api.github.com/repos/apache/hive/commi...   \n",
      "13519  https://api.github.com/repos/apache/hive/commi...   \n",
      "13520  https://api.github.com/repos/apache/hive/commi...   \n",
      "13521  https://api.github.com/repos/apache/hive/commi...   \n",
      "\n",
      "                                                html_url  \\\n",
      "0      https://github.com/apache/hive/commit/88e741d9...   \n",
      "1      https://github.com/apache/hive/commit/7b43c658...   \n",
      "2      https://github.com/apache/hive/commit/bdc3ee1f...   \n",
      "3      https://github.com/apache/hive/commit/e5986119...   \n",
      "4      https://github.com/apache/hive/commit/58a16dc6...   \n",
      "...                                                  ...   \n",
      "13517  https://github.com/apache/hive/commit/b04fae4b...   \n",
      "13518  https://github.com/apache/hive/commit/df6bc4d1...   \n",
      "13519  https://github.com/apache/hive/commit/61224387...   \n",
      "13520  https://github.com/apache/hive/commit/1f6037ab...   \n",
      "13521  https://github.com/apache/hive/commit/b35a5c97...   \n",
      "\n",
      "                                            comments_url  \\\n",
      "0      https://api.github.com/repos/apache/hive/commi...   \n",
      "1      https://api.github.com/repos/apache/hive/commi...   \n",
      "2      https://api.github.com/repos/apache/hive/commi...   \n",
      "3      https://api.github.com/repos/apache/hive/commi...   \n",
      "4      https://api.github.com/repos/apache/hive/commi...   \n",
      "...                                                  ...   \n",
      "13517  https://api.github.com/repos/apache/hive/commi...   \n",
      "13518  https://api.github.com/repos/apache/hive/commi...   \n",
      "13519  https://api.github.com/repos/apache/hive/commi...   \n",
      "13520  https://api.github.com/repos/apache/hive/commi...   \n",
      "13521  https://api.github.com/repos/apache/hive/commi...   \n",
      "\n",
      "                                                 parents commit.author.name  \\\n",
      "0      [{'sha': '4784df9a186733eae1794078bacfd610cdcf...       Shreeya Sand   \n",
      "1      [{'sha': '4784df9a186733eae1794078bacfd610cdcf...     Shailesh Gupta   \n",
      "2      [{'sha': '7b43c658447fa46f040a2543a2288b7e256b...     Shailesh Gupta   \n",
      "3      [{'sha': 'bdc3ee1f67b90e67fc20cd867cf533cf52bb...     Shailesh Gupta   \n",
      "4      [{'sha': 'e598611949cf230cef023fd70f23255decb5...     Shailesh Gupta   \n",
      "...                                                  ...                ...   \n",
      "13517  [{'sha': 'a3dac3b98e98282f2a6ecc01e31d8711eec1...      Clément Notin   \n",
      "13518  [{'sha': '38ca5d3b52ac893ec20e7bf8d47ee188f61e...     Jonathan Chang   \n",
      "13519  [{'sha': 'df6bc4d1026b5f17feb811fd50292f81df86...     Jonathan Chang   \n",
      "13520  [{'sha': 'cefcddd47dd4875c722fabb44797032d752d...                guy   \n",
      "13521  [{'sha': '1f6037abcba91187700408a624d0f2780d2a...                guy   \n",
      "\n",
      "                                 commit.author.email  ...  \\\n",
      "0      50237152+shreeyasand@users.noreply.github.com  ...   \n",
      "1                          guptashailesh92@gmail.com  ...   \n",
      "2                                  shilgu@amazon.com  ...   \n",
      "3                                  shilgu@amazon.com  ...   \n",
      "4                                  shilgu@amazon.com  ...   \n",
      "...                                              ...  ...   \n",
      "13517                              clement@notin.org  ...   \n",
      "13518                                jonchang@fb.com  ...   \n",
      "13519                                jonchang@fb.com  ...   \n",
      "13520                       guy.doulberg@conduit.com  ...   \n",
      "13521                       guy.doulberg@conduit.com  ...   \n",
      "\n",
      "                                   committer.starred_url  \\\n",
      "0      https://api.github.com/users/shreeyasand/starr...   \n",
      "1                                                    NaN   \n",
      "2                                                    NaN   \n",
      "3                                                    NaN   \n",
      "4                                                    NaN   \n",
      "...                                                  ...   \n",
      "13517  https://api.github.com/users/cnotin/starred{/o...   \n",
      "13518                                                NaN   \n",
      "13519                                                NaN   \n",
      "13520                                                NaN   \n",
      "13521                                                NaN   \n",
      "\n",
      "                             committer.subscriptions_url  \\\n",
      "0      https://api.github.com/users/shreeyasand/subsc...   \n",
      "1                                                    NaN   \n",
      "2                                                    NaN   \n",
      "3                                                    NaN   \n",
      "4                                                    NaN   \n",
      "...                                                  ...   \n",
      "13517  https://api.github.com/users/cnotin/subscriptions   \n",
      "13518                                                NaN   \n",
      "13519                                                NaN   \n",
      "13520                                                NaN   \n",
      "13521                                                NaN   \n",
      "\n",
      "                         committer.organizations_url  \\\n",
      "0      https://api.github.com/users/shreeyasand/orgs   \n",
      "1                                                NaN   \n",
      "2                                                NaN   \n",
      "3                                                NaN   \n",
      "4                                                NaN   \n",
      "...                                              ...   \n",
      "13517       https://api.github.com/users/cnotin/orgs   \n",
      "13518                                            NaN   \n",
      "13519                                            NaN   \n",
      "13520                                            NaN   \n",
      "13521                                            NaN   \n",
      "\n",
      "                                  committer.repos_url  \\\n",
      "0      https://api.github.com/users/shreeyasand/repos   \n",
      "1                                                 NaN   \n",
      "2                                                 NaN   \n",
      "3                                                 NaN   \n",
      "4                                                 NaN   \n",
      "...                                               ...   \n",
      "13517       https://api.github.com/users/cnotin/repos   \n",
      "13518                                             NaN   \n",
      "13519                                             NaN   \n",
      "13520                                             NaN   \n",
      "13521                                             NaN   \n",
      "\n",
      "                                    committer.events_url  \\\n",
      "0      https://api.github.com/users/shreeyasand/event...   \n",
      "1                                                    NaN   \n",
      "2                                                    NaN   \n",
      "3                                                    NaN   \n",
      "4                                                    NaN   \n",
      "...                                                  ...   \n",
      "13517  https://api.github.com/users/cnotin/events{/pr...   \n",
      "13518                                                NaN   \n",
      "13519                                                NaN   \n",
      "13520                                                NaN   \n",
      "13521                                                NaN   \n",
      "\n",
      "                           committer.received_events_url committer.type  \\\n",
      "0      https://api.github.com/users/shreeyasand/recei...           User   \n",
      "1                                                    NaN            NaN   \n",
      "2                                                    NaN            NaN   \n",
      "3                                                    NaN            NaN   \n",
      "4                                                    NaN            NaN   \n",
      "...                                                  ...            ...   \n",
      "13517  https://api.github.com/users/cnotin/received_e...           User   \n",
      "13518                                                NaN            NaN   \n",
      "13519                                                NaN            NaN   \n",
      "13520                                                NaN            NaN   \n",
      "13521                                                NaN            NaN   \n",
      "\n",
      "      committer.site_admin  committer  author  \n",
      "0                    False        NaN     NaN  \n",
      "1                      NaN        NaN     NaN  \n",
      "2                      NaN        NaN     NaN  \n",
      "3                      NaN        NaN     NaN  \n",
      "4                      NaN        NaN     NaN  \n",
      "...                    ...        ...     ...  \n",
      "13517                False        NaN     NaN  \n",
      "13518                  NaN        NaN     NaN  \n",
      "13519                  NaN        NaN     NaN  \n",
      "13520                  NaN        NaN     NaN  \n",
      "13521                  NaN        NaN     NaN  \n",
      "\n",
      "[13522 rows x 61 columns]\n"
     ]
    }
   ],
   "source": [
    "x = df.groupby(level=0).min()\n",
    "print(x)"
   ],
   "metadata": {
    "collapsed": false
   }
  },
  {
   "cell_type": "code",
   "execution_count": 54,
   "outputs": [
    {
     "data": {
      "text/plain": "                                                                     max  \\\nindex                                                                      \nhttps://api.github.com/repos/apache/hive/pulls/...  2011-07-19T15:14:12Z   \nhttps://api.github.com/repos/apache/hive/pulls/...  2012-01-25T01:24:44Z   \nhttps://api.github.com/repos/apache/hive/pulls/...  2016-06-21T19:11:28Z   \nhttps://api.github.com/repos/apache/hive/pulls/...  2020-03-05T22:21:55Z   \nhttps://api.github.com/repos/apache/hive/pulls/...  2020-05-01T20:57:13Z   \n...                                                                  ...   \nhttps://api.github.com/repos/apache/hive/pulls/...  2020-02-11T12:17:31Z   \nhttps://api.github.com/repos/apache/hive/pulls/...  2020-04-25T14:04:41Z   \nhttps://api.github.com/repos/apache/hive/pulls/...  2020-04-25T15:06:01Z   \nhttps://api.github.com/repos/apache/hive/pulls/...  2020-04-29T13:18:01Z   \nhttps://api.github.com/repos/apache/hive/pulls/...  2020-04-28T17:54:23Z   \n\n                                                                     min  \nindex                                                                     \nhttps://api.github.com/repos/apache/hive/pulls/...  2011-07-17T06:16:30Z  \nhttps://api.github.com/repos/apache/hive/pulls/...  2011-12-08T03:47:19Z  \nhttps://api.github.com/repos/apache/hive/pulls/...  2016-06-15T17:19:30Z  \nhttps://api.github.com/repos/apache/hive/pulls/...  2020-03-04T22:39:33Z  \nhttps://api.github.com/repos/apache/hive/pulls/...  2020-05-01T13:24:39Z  \n...                                                                  ...  \nhttps://api.github.com/repos/apache/hive/pulls/...  2019-03-19T09:58:30Z  \nhttps://api.github.com/repos/apache/hive/pulls/...  2020-04-25T14:04:41Z  \nhttps://api.github.com/repos/apache/hive/pulls/...  2020-04-25T15:06:01Z  \nhttps://api.github.com/repos/apache/hive/pulls/...  2020-04-28T13:24:25Z  \nhttps://api.github.com/repos/apache/hive/pulls/...  2020-04-28T17:54:23Z  \n\n[3888 rows x 2 columns]",
      "text/html": "<div>\n<style scoped>\n    .dataframe tbody tr th:only-of-type {\n        vertical-align: middle;\n    }\n\n    .dataframe tbody tr th {\n        vertical-align: top;\n    }\n\n    .dataframe thead th {\n        text-align: right;\n    }\n</style>\n<table border=\"1\" class=\"dataframe\">\n  <thead>\n    <tr style=\"text-align: right;\">\n      <th></th>\n      <th>max</th>\n      <th>min</th>\n    </tr>\n    <tr>\n      <th>index</th>\n      <th></th>\n      <th></th>\n    </tr>\n  </thead>\n  <tbody>\n    <tr>\n      <th>https://api.github.com/repos/apache/hive/pulls/1/commits</th>\n      <td>2011-07-19T15:14:12Z</td>\n      <td>2011-07-17T06:16:30Z</td>\n    </tr>\n    <tr>\n      <th>https://api.github.com/repos/apache/hive/pulls/10/commits</th>\n      <td>2012-01-25T01:24:44Z</td>\n      <td>2011-12-08T03:47:19Z</td>\n    </tr>\n    <tr>\n      <th>https://api.github.com/repos/apache/hive/pulls/100/commits</th>\n      <td>2016-06-21T19:11:28Z</td>\n      <td>2016-06-15T17:19:30Z</td>\n    </tr>\n    <tr>\n      <th>https://api.github.com/repos/apache/hive/pulls/1000/commits</th>\n      <td>2020-03-05T22:21:55Z</td>\n      <td>2020-03-04T22:39:33Z</td>\n    </tr>\n    <tr>\n      <th>https://api.github.com/repos/apache/hive/pulls/1001/commits</th>\n      <td>2020-05-01T20:57:13Z</td>\n      <td>2020-05-01T13:24:39Z</td>\n    </tr>\n    <tr>\n      <th>...</th>\n      <td>...</td>\n      <td>...</td>\n    </tr>\n    <tr>\n      <th>https://api.github.com/repos/apache/hive/pulls/994/commits</th>\n      <td>2020-02-11T12:17:31Z</td>\n      <td>2019-03-19T09:58:30Z</td>\n    </tr>\n    <tr>\n      <th>https://api.github.com/repos/apache/hive/pulls/995/commits</th>\n      <td>2020-04-25T14:04:41Z</td>\n      <td>2020-04-25T14:04:41Z</td>\n    </tr>\n    <tr>\n      <th>https://api.github.com/repos/apache/hive/pulls/996/commits</th>\n      <td>2020-04-25T15:06:01Z</td>\n      <td>2020-04-25T15:06:01Z</td>\n    </tr>\n    <tr>\n      <th>https://api.github.com/repos/apache/hive/pulls/998/commits</th>\n      <td>2020-04-29T13:18:01Z</td>\n      <td>2020-04-28T13:24:25Z</td>\n    </tr>\n    <tr>\n      <th>https://api.github.com/repos/apache/hive/pulls/999/commits</th>\n      <td>2020-04-28T17:54:23Z</td>\n      <td>2020-04-28T17:54:23Z</td>\n    </tr>\n  </tbody>\n</table>\n<p>3888 rows × 2 columns</p>\n</div>"
     },
     "execution_count": 54,
     "metadata": {},
     "output_type": "execute_result"
    }
   ],
   "source": [
    "df.groupby('index')['commit.committer.date'].aggregate(['max','min'])"
   ],
   "metadata": {
    "collapsed": false
   }
  },
  {
   "cell_type": "code",
   "execution_count": 53,
   "outputs": [
    {
     "data": {
      "text/plain": "commit.committer.date                                                max  \\\nindex                                                                      \nhttps://api.github.com/repos/apache/hive/pulls/...  2011-07-19T15:14:12Z   \nhttps://api.github.com/repos/apache/hive/pulls/...  2012-01-25T01:24:44Z   \nhttps://api.github.com/repos/apache/hive/pulls/...  2016-06-21T19:11:28Z   \nhttps://api.github.com/repos/apache/hive/pulls/...  2020-03-05T22:21:55Z   \nhttps://api.github.com/repos/apache/hive/pulls/...  2020-05-01T20:57:13Z   \n...                                                                  ...   \nhttps://api.github.com/repos/apache/hive/pulls/...  2020-02-11T12:17:31Z   \nhttps://api.github.com/repos/apache/hive/pulls/...  2020-04-25T14:04:41Z   \nhttps://api.github.com/repos/apache/hive/pulls/...  2020-04-25T15:06:01Z   \nhttps://api.github.com/repos/apache/hive/pulls/...  2020-04-29T13:18:01Z   \nhttps://api.github.com/repos/apache/hive/pulls/...  2020-04-28T17:54:23Z   \n\ncommit.committer.date                                                min  \nindex                                                                     \nhttps://api.github.com/repos/apache/hive/pulls/...  2011-07-17T06:16:30Z  \nhttps://api.github.com/repos/apache/hive/pulls/...  2011-12-08T03:47:19Z  \nhttps://api.github.com/repos/apache/hive/pulls/...  2016-06-15T17:19:30Z  \nhttps://api.github.com/repos/apache/hive/pulls/...  2020-03-04T22:39:33Z  \nhttps://api.github.com/repos/apache/hive/pulls/...  2020-05-01T13:24:39Z  \n...                                                                  ...  \nhttps://api.github.com/repos/apache/hive/pulls/...  2019-03-19T09:58:30Z  \nhttps://api.github.com/repos/apache/hive/pulls/...  2020-04-25T14:04:41Z  \nhttps://api.github.com/repos/apache/hive/pulls/...  2020-04-25T15:06:01Z  \nhttps://api.github.com/repos/apache/hive/pulls/...  2020-04-28T13:24:25Z  \nhttps://api.github.com/repos/apache/hive/pulls/...  2020-04-28T17:54:23Z  \n\n[3888 rows x 2 columns]",
      "text/html": "<div>\n<style scoped>\n    .dataframe tbody tr th:only-of-type {\n        vertical-align: middle;\n    }\n\n    .dataframe tbody tr th {\n        vertical-align: top;\n    }\n\n    .dataframe thead th {\n        text-align: right;\n    }\n</style>\n<table border=\"1\" class=\"dataframe\">\n  <thead>\n    <tr style=\"text-align: right;\">\n      <th>commit.committer.date</th>\n      <th>max</th>\n      <th>min</th>\n    </tr>\n    <tr>\n      <th>index</th>\n      <th></th>\n      <th></th>\n    </tr>\n  </thead>\n  <tbody>\n    <tr>\n      <th>https://api.github.com/repos/apache/hive/pulls/1/commits</th>\n      <td>2011-07-19T15:14:12Z</td>\n      <td>2011-07-17T06:16:30Z</td>\n    </tr>\n    <tr>\n      <th>https://api.github.com/repos/apache/hive/pulls/10/commits</th>\n      <td>2012-01-25T01:24:44Z</td>\n      <td>2011-12-08T03:47:19Z</td>\n    </tr>\n    <tr>\n      <th>https://api.github.com/repos/apache/hive/pulls/100/commits</th>\n      <td>2016-06-21T19:11:28Z</td>\n      <td>2016-06-15T17:19:30Z</td>\n    </tr>\n    <tr>\n      <th>https://api.github.com/repos/apache/hive/pulls/1000/commits</th>\n      <td>2020-03-05T22:21:55Z</td>\n      <td>2020-03-04T22:39:33Z</td>\n    </tr>\n    <tr>\n      <th>https://api.github.com/repos/apache/hive/pulls/1001/commits</th>\n      <td>2020-05-01T20:57:13Z</td>\n      <td>2020-05-01T13:24:39Z</td>\n    </tr>\n    <tr>\n      <th>...</th>\n      <td>...</td>\n      <td>...</td>\n    </tr>\n    <tr>\n      <th>https://api.github.com/repos/apache/hive/pulls/994/commits</th>\n      <td>2020-02-11T12:17:31Z</td>\n      <td>2019-03-19T09:58:30Z</td>\n    </tr>\n    <tr>\n      <th>https://api.github.com/repos/apache/hive/pulls/995/commits</th>\n      <td>2020-04-25T14:04:41Z</td>\n      <td>2020-04-25T14:04:41Z</td>\n    </tr>\n    <tr>\n      <th>https://api.github.com/repos/apache/hive/pulls/996/commits</th>\n      <td>2020-04-25T15:06:01Z</td>\n      <td>2020-04-25T15:06:01Z</td>\n    </tr>\n    <tr>\n      <th>https://api.github.com/repos/apache/hive/pulls/998/commits</th>\n      <td>2020-04-29T13:18:01Z</td>\n      <td>2020-04-28T13:24:25Z</td>\n    </tr>\n    <tr>\n      <th>https://api.github.com/repos/apache/hive/pulls/999/commits</th>\n      <td>2020-04-28T17:54:23Z</td>\n      <td>2020-04-28T17:54:23Z</td>\n    </tr>\n  </tbody>\n</table>\n<p>3888 rows × 2 columns</p>\n</div>"
     },
     "execution_count": 53,
     "metadata": {},
     "output_type": "execute_result"
    }
   ],
   "source": [
    "df.groupby(\"index\").apply(lambda x: x['commit.committer.date'].aggregate(['max','min']))"
   ],
   "metadata": {
    "collapsed": false
   }
  },
  {
   "cell_type": "code",
   "execution_count": 53,
   "outputs": [],
   "source": [],
   "metadata": {
    "collapsed": false
   }
  }
 ],
 "metadata": {
  "kernelspec": {
   "display_name": "Python 3 (ipykernel)",
   "language": "python",
   "name": "python3"
  },
  "language_info": {
   "codemirror_mode": {
    "name": "ipython",
    "version": 3
   },
   "file_extension": ".py",
   "mimetype": "text/x-python",
   "name": "python",
   "nbconvert_exporter": "python",
   "pygments_lexer": "ipython3",
   "version": "3.9.13"
  }
 },
 "nbformat": 4,
 "nbformat_minor": 1
}
