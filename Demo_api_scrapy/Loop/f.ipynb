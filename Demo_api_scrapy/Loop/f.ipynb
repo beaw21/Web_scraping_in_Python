{
 "cells": [
  {
   "cell_type": "code",
   "execution_count": 1,
   "metadata": {},
   "outputs": [],
   "source": [
    "import requests\n",
    "import json\n",
    "import pandas as pd\n",
    "import ast"
   ]
  },
  {
   "cell_type": "code",
   "execution_count": 2,
   "metadata": {},
   "outputs": [
    {
     "name": "stdout",
     "output_type": "stream",
     "text": [
      "<class 'str'>\n"
     ]
    }
   ],
   "source": [
    "api_get = 'https://api.github.com/repos/apache/hive/pulls?state=closed&per_page=300&page='\n",
    "print(type(api_get))"
   ]
  },
  {
   "cell_type": "code",
   "execution_count": 3,
   "metadata": {},
   "outputs": [
    {
     "name": "stdout",
     "output_type": "stream",
     "text": [
      "<class 'requests.models.Response'>\n"
     ]
    }
   ],
   "source": [
    "requests_data = requests.get(api_get)\n",
    "print(type(requests_data))"
   ]
  },
  {
   "cell_type": "code",
   "execution_count": 4,
   "metadata": {},
   "outputs": [],
   "source": [
    "def cell_api(api, fromPage=1, toPage=5, **page):\n",
    "    data = page.get('page', [])\n",
    "    for i in range(fromPage, toPage + 1, 1):\n",
    "        cell = requests.get(api + str(i))\n",
    "        data += cell.json()\n",
    "        print('loading page' + str(i))\n",
    "    if len(data) > 10:\n",
    "        return (data)"
   ]
  },
  {
   "cell_type": "code",
   "execution_count": 4,
   "metadata": {},
   "outputs": [],
   "source": []
  },
  {
   "cell_type": "code",
   "execution_count": 5,
   "metadata": {},
   "outputs": [
    {
     "name": "stdout",
     "output_type": "stream",
     "text": [
      "loading page1\n",
      "loading page2\n",
      "loading page3\n",
      "loading page4\n",
      "loading page5\n",
      "loading page6\n",
      "loading page7\n",
      "loading page8\n",
      "loading page9\n",
      "loading page10\n",
      "loading page11\n",
      "loading page12\n",
      "loading page13\n",
      "loading page14\n",
      "loading page15\n",
      "loading page16\n",
      "loading page17\n",
      "loading page18\n",
      "loading page19\n",
      "loading page20\n",
      "loading page21\n",
      "loading page22\n",
      "loading page23\n",
      "loading page24\n",
      "loading page25\n",
      "loading page26\n",
      "loading page27\n",
      "loading page28\n",
      "loading page29\n",
      "loading page30\n",
      "loading page31\n",
      "loading page32\n",
      "loading page33\n",
      "loading page34\n",
      "loading page35\n",
      "loading page36\n",
      "loading page37\n",
      "loading page38\n",
      "loading page39\n",
      "loading page40\n",
      "loading page41\n",
      "loading page42\n",
      "loading page43\n",
      "loading page44\n",
      "loading page45\n",
      "loading page46\n",
      "loading page47\n",
      "loading page48\n",
      "loading page49\n",
      "loading page50\n",
      "loading page51\n",
      "loading page52\n",
      "loading page53\n",
      "loading page54\n",
      "loading page55\n",
      "loading page56\n",
      "loading page57\n",
      "loading page58\n",
      "loading page59\n",
      "loading page60\n",
      "loading page61\n",
      "loading page62\n",
      "loading page63\n",
      "loading page64\n",
      "loading page65\n",
      "loading page66\n",
      "loading page67\n",
      "loading page68\n",
      "loading page69\n",
      "loading page70\n",
      "loading page71\n",
      "loading page72\n",
      "loading page73\n",
      "loading page74\n",
      "loading page75\n",
      "loading page76\n",
      "loading page77\n",
      "loading page78\n",
      "loading page79\n",
      "loading page80\n",
      "loading page81\n",
      "loading page82\n",
      "loading page83\n",
      "loading page84\n",
      "loading page85\n",
      "loading page86\n",
      "loading page87\n",
      "loading page88\n",
      "loading page89\n",
      "loading page90\n",
      "loading page91\n",
      "loading page92\n",
      "loading page93\n",
      "loading page94\n",
      "loading page95\n",
      "loading page96\n",
      "loading page97\n",
      "loading page98\n",
      "loading page99\n",
      "loading page100\n",
      "Empty DataFrame\n",
      "Columns: []\n",
      "Index: [0, 1, 2, 3, 4, 5, 6, 7, 8, 9, 10, 11, 12, 13, 14, 15, 16, 17, 18, 19, 20, 21, 22, 23, 24, 25, 26, 27, 28, 29, 30, 31, 32, 33, 34, 35, 36, 37, 38, 39, 40, 41, 42, 43, 44, 45, 46, 47, 48, 49, 50, 51, 52, 53, 54, 55, 56, 57, 58, 59, 60, 61, 62, 63, 64, 65, 66, 67, 68, 69, 70, 71, 72, 73, 74, 75, 76, 77, 78, 79, 80, 81, 82, 83, 84, 85, 86, 87, 88, 89, 90, 91, 92, 93, 94, 95, 96, 97, 98, 99, ...]\n",
      "\n",
      "[200 rows x 0 columns]\n"
     ]
    }
   ],
   "source": [
    "data_list_api = cell_api(api_get, fromPage=1, toPage=100)\n",
    "df = pd.json_normalize(data_list_api)\n",
    "print(df)"
   ]
  },
  {
   "cell_type": "code",
   "execution_count": 6,
   "metadata": {},
   "outputs": [],
   "source": [
    "df.to_csv('git_all_hive.csv')"
   ]
  },
  {
   "cell_type": "code",
   "execution_count": 6,
   "metadata": {},
   "outputs": [],
   "source": []
  }
 ],
 "metadata": {
  "kernelspec": {
   "display_name": "Python 3 (ipykernel)",
   "language": "python",
   "name": "python3"
  },
  "language_info": {
   "codemirror_mode": {
    "name": "ipython",
    "version": 3
   },
   "file_extension": ".py",
   "mimetype": "text/x-python",
   "name": "python",
   "nbconvert_exporter": "python",
   "pygments_lexer": "ipython3",
   "version": "3.9.13"
  }
 },
 "nbformat": 4,
 "nbformat_minor": 1
}
