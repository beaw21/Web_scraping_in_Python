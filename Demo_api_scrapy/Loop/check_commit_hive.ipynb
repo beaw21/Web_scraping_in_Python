{
 "cells": [
  {
   "cell_type": "code",
   "execution_count": 123,
   "metadata": {
    "collapsed": true
   },
   "outputs": [],
   "source": [
    "import json\n",
    "import pandas as pd\n",
    "import ast"
   ]
  },
  {
   "cell_type": "code",
   "execution_count": 124,
   "outputs": [
    {
     "data": {
      "text/plain": "       Unnamed: 0                                              index  \\\n0               0  https://api.github.com/repos/apache/hive/pulls...   \n1               1  https://api.github.com/repos/apache/hive/pulls...   \n2               2  https://api.github.com/repos/apache/hive/pulls...   \n3               3  https://api.github.com/repos/apache/hive/pulls...   \n4               4  https://api.github.com/repos/apache/hive/pulls...   \n...           ...                                                ...   \n13517       13517  https://api.github.com/repos/apache/hive/pulls...   \n13518       13518  https://api.github.com/repos/apache/hive/pulls...   \n13519       13519  https://api.github.com/repos/apache/hive/pulls...   \n13520       13520  https://api.github.com/repos/apache/hive/pulls...   \n13521       13521  https://api.github.com/repos/apache/hive/pulls...   \n\n                                            sha  \\\n0      88e741d9aad29c4589ee97a079754eced108b44d   \n1      7b43c658447fa46f040a2543a2288b7e256b123a   \n2      bdc3ee1f67b90e67fc20cd867cf533cf52bb93ee   \n3      e598611949cf230cef023fd70f23255decb57693   \n4      58a16dc65dbd7687e8a91f9656038b8d662b01d7   \n...                                         ...   \n13517  b04fae4b1e06fadab75976f7f54686eb42554022   \n13518  df6bc4d1026b5f17feb811fd50292f81df86b71b   \n13519  6122438708e3054baa24ce0e13d12f9405272fb0   \n13520  1f6037abcba91187700408a624d0f2780d2a016a   \n13521  b35a5c9702c6b997b42949db848fbcfd7ae6712d   \n\n                                                 node_id  \\\n0      C_kwDOI7Wp89oAKDg4ZTc0MWQ5YWFkMjljNDU4OWVlOTdh...   \n1      C_kwDOG5Me3toAKDdiNDNjNjU4NDQ3ZmE0NmYwNDBhMjU0...   \n2      C_kwDOG5Me3toAKGJkYzNlZTFmNjdiOTBlNjdmYzIwY2Q4...   \n3      C_kwDOG5Me3toAKGU1OTg2MTE5NDljZjIzMGNlZjAyM2Zk...   \n4      C_kwDOG5Me3toAKDU4YTE2ZGM2NWRiZDc2ODdlOGE5MWY5...   \n...                                                  ...   \n13517  MDY6Q29tbWl0MjA2NDQ0OmIwNGZhZTRiMWUwNmZhZGFiNz...   \n13518  MDY6Q29tbWl0MjE4OTk0ODpkZjZiYzRkMTAyNmI1ZjE3Zm...   \n13519  MDY6Q29tbWl0MjE4OTk0ODo2MTIyNDM4NzA4ZTMwNTRiYW...   \n13520  MDY6Q29tbWl0MjA0NzI5ODoxZjYwMzdhYmNiYTkxMTg3Nz...   \n13521  MDY6Q29tbWl0MjA0NzI5ODpiMzVhNWM5NzAyYzZiOTk3Yj...   \n\n                                                     url  \\\n0      https://api.github.com/repos/apache/hive/commi...   \n1      https://api.github.com/repos/apache/hive/commi...   \n2      https://api.github.com/repos/apache/hive/commi...   \n3      https://api.github.com/repos/apache/hive/commi...   \n4      https://api.github.com/repos/apache/hive/commi...   \n...                                                  ...   \n13517  https://api.github.com/repos/apache/hive/commi...   \n13518  https://api.github.com/repos/apache/hive/commi...   \n13519  https://api.github.com/repos/apache/hive/commi...   \n13520  https://api.github.com/repos/apache/hive/commi...   \n13521  https://api.github.com/repos/apache/hive/commi...   \n\n                                                html_url  \\\n0      https://github.com/apache/hive/commit/88e741d9...   \n1      https://github.com/apache/hive/commit/7b43c658...   \n2      https://github.com/apache/hive/commit/bdc3ee1f...   \n3      https://github.com/apache/hive/commit/e5986119...   \n4      https://github.com/apache/hive/commit/58a16dc6...   \n...                                                  ...   \n13517  https://github.com/apache/hive/commit/b04fae4b...   \n13518  https://github.com/apache/hive/commit/df6bc4d1...   \n13519  https://github.com/apache/hive/commit/61224387...   \n13520  https://github.com/apache/hive/commit/1f6037ab...   \n13521  https://github.com/apache/hive/commit/b35a5c97...   \n\n                                            comments_url  \\\n0      https://api.github.com/repos/apache/hive/commi...   \n1      https://api.github.com/repos/apache/hive/commi...   \n2      https://api.github.com/repos/apache/hive/commi...   \n3      https://api.github.com/repos/apache/hive/commi...   \n4      https://api.github.com/repos/apache/hive/commi...   \n...                                                  ...   \n13517  https://api.github.com/repos/apache/hive/commi...   \n13518  https://api.github.com/repos/apache/hive/commi...   \n13519  https://api.github.com/repos/apache/hive/commi...   \n13520  https://api.github.com/repos/apache/hive/commi...   \n13521  https://api.github.com/repos/apache/hive/commi...   \n\n                                                 parents commit.author.name  \\\n0      [{'sha': '4784df9a186733eae1794078bacfd610cdcf...       Shreeya Sand   \n1      [{'sha': '4784df9a186733eae1794078bacfd610cdcf...     Shailesh Gupta   \n2      [{'sha': '7b43c658447fa46f040a2543a2288b7e256b...     Shailesh Gupta   \n3      [{'sha': 'bdc3ee1f67b90e67fc20cd867cf533cf52bb...     Shailesh Gupta   \n4      [{'sha': 'e598611949cf230cef023fd70f23255decb5...     Shailesh Gupta   \n...                                                  ...                ...   \n13517  [{'sha': 'a3dac3b98e98282f2a6ecc01e31d8711eec1...      Clément Notin   \n13518  [{'sha': '38ca5d3b52ac893ec20e7bf8d47ee188f61e...     Jonathan Chang   \n13519  [{'sha': 'df6bc4d1026b5f17feb811fd50292f81df86...     Jonathan Chang   \n13520  [{'sha': 'cefcddd47dd4875c722fabb44797032d752d...                guy   \n13521  [{'sha': '1f6037abcba91187700408a624d0f2780d2a...                guy   \n\n                                 commit.author.email  ...  \\\n0      50237152+shreeyasand@users.noreply.github.com  ...   \n1                          guptashailesh92@gmail.com  ...   \n2                                  shilgu@amazon.com  ...   \n3                                  shilgu@amazon.com  ...   \n4                                  shilgu@amazon.com  ...   \n...                                              ...  ...   \n13517                              clement@notin.org  ...   \n13518                                jonchang@fb.com  ...   \n13519                                jonchang@fb.com  ...   \n13520                       guy.doulberg@conduit.com  ...   \n13521                       guy.doulberg@conduit.com  ...   \n\n                                   committer.starred_url  \\\n0      https://api.github.com/users/shreeyasand/starr...   \n1                                                    NaN   \n2                                                    NaN   \n3                                                    NaN   \n4                                                    NaN   \n...                                                  ...   \n13517  https://api.github.com/users/cnotin/starred{/o...   \n13518                                                NaN   \n13519                                                NaN   \n13520                                                NaN   \n13521                                                NaN   \n\n                             committer.subscriptions_url  \\\n0      https://api.github.com/users/shreeyasand/subsc...   \n1                                                    NaN   \n2                                                    NaN   \n3                                                    NaN   \n4                                                    NaN   \n...                                                  ...   \n13517  https://api.github.com/users/cnotin/subscriptions   \n13518                                                NaN   \n13519                                                NaN   \n13520                                                NaN   \n13521                                                NaN   \n\n                         committer.organizations_url  \\\n0      https://api.github.com/users/shreeyasand/orgs   \n1                                                NaN   \n2                                                NaN   \n3                                                NaN   \n4                                                NaN   \n...                                              ...   \n13517       https://api.github.com/users/cnotin/orgs   \n13518                                            NaN   \n13519                                            NaN   \n13520                                            NaN   \n13521                                            NaN   \n\n                                  committer.repos_url  \\\n0      https://api.github.com/users/shreeyasand/repos   \n1                                                 NaN   \n2                                                 NaN   \n3                                                 NaN   \n4                                                 NaN   \n...                                               ...   \n13517       https://api.github.com/users/cnotin/repos   \n13518                                             NaN   \n13519                                             NaN   \n13520                                             NaN   \n13521                                             NaN   \n\n                                    committer.events_url  \\\n0      https://api.github.com/users/shreeyasand/event...   \n1                                                    NaN   \n2                                                    NaN   \n3                                                    NaN   \n4                                                    NaN   \n...                                                  ...   \n13517  https://api.github.com/users/cnotin/events{/pr...   \n13518                                                NaN   \n13519                                                NaN   \n13520                                                NaN   \n13521                                                NaN   \n\n                           committer.received_events_url committer.type  \\\n0      https://api.github.com/users/shreeyasand/recei...           User   \n1                                                    NaN            NaN   \n2                                                    NaN            NaN   \n3                                                    NaN            NaN   \n4                                                    NaN            NaN   \n...                                                  ...            ...   \n13517  https://api.github.com/users/cnotin/received_e...           User   \n13518                                                NaN            NaN   \n13519                                                NaN            NaN   \n13520                                                NaN            NaN   \n13521                                                NaN            NaN   \n\n      committer.site_admin  committer  author  \n0                    False        NaN     NaN  \n1                      NaN        NaN     NaN  \n2                      NaN        NaN     NaN  \n3                      NaN        NaN     NaN  \n4                      NaN        NaN     NaN  \n...                    ...        ...     ...  \n13517                False        NaN     NaN  \n13518                  NaN        NaN     NaN  \n13519                  NaN        NaN     NaN  \n13520                  NaN        NaN     NaN  \n13521                  NaN        NaN     NaN  \n\n[13522 rows x 61 columns]",
      "text/html": "<div>\n<style scoped>\n    .dataframe tbody tr th:only-of-type {\n        vertical-align: middle;\n    }\n\n    .dataframe tbody tr th {\n        vertical-align: top;\n    }\n\n    .dataframe thead th {\n        text-align: right;\n    }\n</style>\n<table border=\"1\" class=\"dataframe\">\n  <thead>\n    <tr style=\"text-align: right;\">\n      <th></th>\n      <th>Unnamed: 0</th>\n      <th>index</th>\n      <th>sha</th>\n      <th>node_id</th>\n      <th>url</th>\n      <th>html_url</th>\n      <th>comments_url</th>\n      <th>parents</th>\n      <th>commit.author.name</th>\n      <th>commit.author.email</th>\n      <th>...</th>\n      <th>committer.starred_url</th>\n      <th>committer.subscriptions_url</th>\n      <th>committer.organizations_url</th>\n      <th>committer.repos_url</th>\n      <th>committer.events_url</th>\n      <th>committer.received_events_url</th>\n      <th>committer.type</th>\n      <th>committer.site_admin</th>\n      <th>committer</th>\n      <th>author</th>\n    </tr>\n  </thead>\n  <tbody>\n    <tr>\n      <th>0</th>\n      <td>0</td>\n      <td>https://api.github.com/repos/apache/hive/pulls...</td>\n      <td>88e741d9aad29c4589ee97a079754eced108b44d</td>\n      <td>C_kwDOI7Wp89oAKDg4ZTc0MWQ5YWFkMjljNDU4OWVlOTdh...</td>\n      <td>https://api.github.com/repos/apache/hive/commi...</td>\n      <td>https://github.com/apache/hive/commit/88e741d9...</td>\n      <td>https://api.github.com/repos/apache/hive/commi...</td>\n      <td>[{'sha': '4784df9a186733eae1794078bacfd610cdcf...</td>\n      <td>Shreeya Sand</td>\n      <td>50237152+shreeyasand@users.noreply.github.com</td>\n      <td>...</td>\n      <td>https://api.github.com/users/shreeyasand/starr...</td>\n      <td>https://api.github.com/users/shreeyasand/subsc...</td>\n      <td>https://api.github.com/users/shreeyasand/orgs</td>\n      <td>https://api.github.com/users/shreeyasand/repos</td>\n      <td>https://api.github.com/users/shreeyasand/event...</td>\n      <td>https://api.github.com/users/shreeyasand/recei...</td>\n      <td>User</td>\n      <td>False</td>\n      <td>NaN</td>\n      <td>NaN</td>\n    </tr>\n    <tr>\n      <th>1</th>\n      <td>1</td>\n      <td>https://api.github.com/repos/apache/hive/pulls...</td>\n      <td>7b43c658447fa46f040a2543a2288b7e256b123a</td>\n      <td>C_kwDOG5Me3toAKDdiNDNjNjU4NDQ3ZmE0NmYwNDBhMjU0...</td>\n      <td>https://api.github.com/repos/apache/hive/commi...</td>\n      <td>https://github.com/apache/hive/commit/7b43c658...</td>\n      <td>https://api.github.com/repos/apache/hive/commi...</td>\n      <td>[{'sha': '4784df9a186733eae1794078bacfd610cdcf...</td>\n      <td>Shailesh Gupta</td>\n      <td>guptashailesh92@gmail.com</td>\n      <td>...</td>\n      <td>NaN</td>\n      <td>NaN</td>\n      <td>NaN</td>\n      <td>NaN</td>\n      <td>NaN</td>\n      <td>NaN</td>\n      <td>NaN</td>\n      <td>NaN</td>\n      <td>NaN</td>\n      <td>NaN</td>\n    </tr>\n    <tr>\n      <th>2</th>\n      <td>2</td>\n      <td>https://api.github.com/repos/apache/hive/pulls...</td>\n      <td>bdc3ee1f67b90e67fc20cd867cf533cf52bb93ee</td>\n      <td>C_kwDOG5Me3toAKGJkYzNlZTFmNjdiOTBlNjdmYzIwY2Q4...</td>\n      <td>https://api.github.com/repos/apache/hive/commi...</td>\n      <td>https://github.com/apache/hive/commit/bdc3ee1f...</td>\n      <td>https://api.github.com/repos/apache/hive/commi...</td>\n      <td>[{'sha': '7b43c658447fa46f040a2543a2288b7e256b...</td>\n      <td>Shailesh Gupta</td>\n      <td>shilgu@amazon.com</td>\n      <td>...</td>\n      <td>NaN</td>\n      <td>NaN</td>\n      <td>NaN</td>\n      <td>NaN</td>\n      <td>NaN</td>\n      <td>NaN</td>\n      <td>NaN</td>\n      <td>NaN</td>\n      <td>NaN</td>\n      <td>NaN</td>\n    </tr>\n    <tr>\n      <th>3</th>\n      <td>3</td>\n      <td>https://api.github.com/repos/apache/hive/pulls...</td>\n      <td>e598611949cf230cef023fd70f23255decb57693</td>\n      <td>C_kwDOG5Me3toAKGU1OTg2MTE5NDljZjIzMGNlZjAyM2Zk...</td>\n      <td>https://api.github.com/repos/apache/hive/commi...</td>\n      <td>https://github.com/apache/hive/commit/e5986119...</td>\n      <td>https://api.github.com/repos/apache/hive/commi...</td>\n      <td>[{'sha': 'bdc3ee1f67b90e67fc20cd867cf533cf52bb...</td>\n      <td>Shailesh Gupta</td>\n      <td>shilgu@amazon.com</td>\n      <td>...</td>\n      <td>NaN</td>\n      <td>NaN</td>\n      <td>NaN</td>\n      <td>NaN</td>\n      <td>NaN</td>\n      <td>NaN</td>\n      <td>NaN</td>\n      <td>NaN</td>\n      <td>NaN</td>\n      <td>NaN</td>\n    </tr>\n    <tr>\n      <th>4</th>\n      <td>4</td>\n      <td>https://api.github.com/repos/apache/hive/pulls...</td>\n      <td>58a16dc65dbd7687e8a91f9656038b8d662b01d7</td>\n      <td>C_kwDOG5Me3toAKDU4YTE2ZGM2NWRiZDc2ODdlOGE5MWY5...</td>\n      <td>https://api.github.com/repos/apache/hive/commi...</td>\n      <td>https://github.com/apache/hive/commit/58a16dc6...</td>\n      <td>https://api.github.com/repos/apache/hive/commi...</td>\n      <td>[{'sha': 'e598611949cf230cef023fd70f23255decb5...</td>\n      <td>Shailesh Gupta</td>\n      <td>shilgu@amazon.com</td>\n      <td>...</td>\n      <td>NaN</td>\n      <td>NaN</td>\n      <td>NaN</td>\n      <td>NaN</td>\n      <td>NaN</td>\n      <td>NaN</td>\n      <td>NaN</td>\n      <td>NaN</td>\n      <td>NaN</td>\n      <td>NaN</td>\n    </tr>\n    <tr>\n      <th>...</th>\n      <td>...</td>\n      <td>...</td>\n      <td>...</td>\n      <td>...</td>\n      <td>...</td>\n      <td>...</td>\n      <td>...</td>\n      <td>...</td>\n      <td>...</td>\n      <td>...</td>\n      <td>...</td>\n      <td>...</td>\n      <td>...</td>\n      <td>...</td>\n      <td>...</td>\n      <td>...</td>\n      <td>...</td>\n      <td>...</td>\n      <td>...</td>\n      <td>...</td>\n      <td>...</td>\n    </tr>\n    <tr>\n      <th>13517</th>\n      <td>13517</td>\n      <td>https://api.github.com/repos/apache/hive/pulls...</td>\n      <td>b04fae4b1e06fadab75976f7f54686eb42554022</td>\n      <td>MDY6Q29tbWl0MjA2NDQ0OmIwNGZhZTRiMWUwNmZhZGFiNz...</td>\n      <td>https://api.github.com/repos/apache/hive/commi...</td>\n      <td>https://github.com/apache/hive/commit/b04fae4b...</td>\n      <td>https://api.github.com/repos/apache/hive/commi...</td>\n      <td>[{'sha': 'a3dac3b98e98282f2a6ecc01e31d8711eec1...</td>\n      <td>Clément Notin</td>\n      <td>clement@notin.org</td>\n      <td>...</td>\n      <td>https://api.github.com/users/cnotin/starred{/o...</td>\n      <td>https://api.github.com/users/cnotin/subscriptions</td>\n      <td>https://api.github.com/users/cnotin/orgs</td>\n      <td>https://api.github.com/users/cnotin/repos</td>\n      <td>https://api.github.com/users/cnotin/events{/pr...</td>\n      <td>https://api.github.com/users/cnotin/received_e...</td>\n      <td>User</td>\n      <td>False</td>\n      <td>NaN</td>\n      <td>NaN</td>\n    </tr>\n    <tr>\n      <th>13518</th>\n      <td>13518</td>\n      <td>https://api.github.com/repos/apache/hive/pulls...</td>\n      <td>df6bc4d1026b5f17feb811fd50292f81df86b71b</td>\n      <td>MDY6Q29tbWl0MjE4OTk0ODpkZjZiYzRkMTAyNmI1ZjE3Zm...</td>\n      <td>https://api.github.com/repos/apache/hive/commi...</td>\n      <td>https://github.com/apache/hive/commit/df6bc4d1...</td>\n      <td>https://api.github.com/repos/apache/hive/commi...</td>\n      <td>[{'sha': '38ca5d3b52ac893ec20e7bf8d47ee188f61e...</td>\n      <td>Jonathan Chang</td>\n      <td>jonchang@fb.com</td>\n      <td>...</td>\n      <td>NaN</td>\n      <td>NaN</td>\n      <td>NaN</td>\n      <td>NaN</td>\n      <td>NaN</td>\n      <td>NaN</td>\n      <td>NaN</td>\n      <td>NaN</td>\n      <td>NaN</td>\n      <td>NaN</td>\n    </tr>\n    <tr>\n      <th>13519</th>\n      <td>13519</td>\n      <td>https://api.github.com/repos/apache/hive/pulls...</td>\n      <td>6122438708e3054baa24ce0e13d12f9405272fb0</td>\n      <td>MDY6Q29tbWl0MjE4OTk0ODo2MTIyNDM4NzA4ZTMwNTRiYW...</td>\n      <td>https://api.github.com/repos/apache/hive/commi...</td>\n      <td>https://github.com/apache/hive/commit/61224387...</td>\n      <td>https://api.github.com/repos/apache/hive/commi...</td>\n      <td>[{'sha': 'df6bc4d1026b5f17feb811fd50292f81df86...</td>\n      <td>Jonathan Chang</td>\n      <td>jonchang@fb.com</td>\n      <td>...</td>\n      <td>NaN</td>\n      <td>NaN</td>\n      <td>NaN</td>\n      <td>NaN</td>\n      <td>NaN</td>\n      <td>NaN</td>\n      <td>NaN</td>\n      <td>NaN</td>\n      <td>NaN</td>\n      <td>NaN</td>\n    </tr>\n    <tr>\n      <th>13520</th>\n      <td>13520</td>\n      <td>https://api.github.com/repos/apache/hive/pulls...</td>\n      <td>1f6037abcba91187700408a624d0f2780d2a016a</td>\n      <td>MDY6Q29tbWl0MjA0NzI5ODoxZjYwMzdhYmNiYTkxMTg3Nz...</td>\n      <td>https://api.github.com/repos/apache/hive/commi...</td>\n      <td>https://github.com/apache/hive/commit/1f6037ab...</td>\n      <td>https://api.github.com/repos/apache/hive/commi...</td>\n      <td>[{'sha': 'cefcddd47dd4875c722fabb44797032d752d...</td>\n      <td>guy</td>\n      <td>guy.doulberg@conduit.com</td>\n      <td>...</td>\n      <td>NaN</td>\n      <td>NaN</td>\n      <td>NaN</td>\n      <td>NaN</td>\n      <td>NaN</td>\n      <td>NaN</td>\n      <td>NaN</td>\n      <td>NaN</td>\n      <td>NaN</td>\n      <td>NaN</td>\n    </tr>\n    <tr>\n      <th>13521</th>\n      <td>13521</td>\n      <td>https://api.github.com/repos/apache/hive/pulls...</td>\n      <td>b35a5c9702c6b997b42949db848fbcfd7ae6712d</td>\n      <td>MDY6Q29tbWl0MjA0NzI5ODpiMzVhNWM5NzAyYzZiOTk3Yj...</td>\n      <td>https://api.github.com/repos/apache/hive/commi...</td>\n      <td>https://github.com/apache/hive/commit/b35a5c97...</td>\n      <td>https://api.github.com/repos/apache/hive/commi...</td>\n      <td>[{'sha': '1f6037abcba91187700408a624d0f2780d2a...</td>\n      <td>guy</td>\n      <td>guy.doulberg@conduit.com</td>\n      <td>...</td>\n      <td>NaN</td>\n      <td>NaN</td>\n      <td>NaN</td>\n      <td>NaN</td>\n      <td>NaN</td>\n      <td>NaN</td>\n      <td>NaN</td>\n      <td>NaN</td>\n      <td>NaN</td>\n      <td>NaN</td>\n    </tr>\n  </tbody>\n</table>\n<p>13522 rows × 61 columns</p>\n</div>"
     },
     "execution_count": 124,
     "metadata": {},
     "output_type": "execute_result"
    }
   ],
   "source": [
    "df_all = pd.read_csv('commit_of_all_pull_hive.csv')\n",
    "df_all"
   ],
   "metadata": {
    "collapsed": false
   }
  },
  {
   "cell_type": "code",
   "execution_count": 125,
   "outputs": [
    {
     "name": "stdout",
     "output_type": "stream",
     "text": [
      "3    3\n",
      "2    2\n",
      "1    1\n",
      "Name: id, dtype: int64\n"
     ]
    }
   ],
   "source": [
    "import pandas as pd\n",
    "\n",
    "# create sample dataframe\n",
    "df = pd.DataFrame({\n",
    "    'id': [1, 2, 2, 3, 3, 3],\n",
    "    'col2': ['a', 'b', 'c', 'd', 'e', 'f'],\n",
    "    'col3': [5, 6, 7, 8, 9, 10]\n",
    "})\n",
    "\n",
    "# count rows for each unique id\n",
    "counts = df['id'].value_counts()\n",
    "\n",
    "# print counts\n",
    "print(counts)\n"
   ],
   "metadata": {
    "collapsed": false
   }
  },
  {
   "cell_type": "code",
   "execution_count": 126,
   "outputs": [
    {
     "data": {
      "text/plain": "1    1\n2    2\n3    3\nName: id, dtype: int64"
     },
     "execution_count": 126,
     "metadata": {},
     "output_type": "execute_result"
    }
   ],
   "source": [
    "counts = counts.sort_index()\n",
    "counts"
   ],
   "metadata": {
    "collapsed": false
   }
  },
  {
   "cell_type": "code",
   "execution_count": 127,
   "outputs": [],
   "source": [
    "counts_all = df_all['index'].value_counts()"
   ],
   "metadata": {
    "collapsed": false
   }
  },
  {
   "cell_type": "code",
   "execution_count": 128,
   "outputs": [
    {
     "data": {
      "text/plain": "                                                level_0  index\n0     https://api.github.com/repos/apache/hive/pulls...     30\n1     https://api.github.com/repos/apache/hive/pulls...     30\n2     https://api.github.com/repos/apache/hive/pulls...     30\n3     https://api.github.com/repos/apache/hive/pulls...     30\n4     https://api.github.com/repos/apache/hive/pulls...     30\n...                                                 ...    ...\n3883  https://api.github.com/repos/apache/hive/pulls...      1\n3884  https://api.github.com/repos/apache/hive/pulls...      1\n3885  https://api.github.com/repos/apache/hive/pulls...      1\n3886  https://api.github.com/repos/apache/hive/pulls...      1\n3887  https://api.github.com/repos/apache/hive/pulls...      1\n\n[3888 rows x 2 columns]",
      "text/html": "<div>\n<style scoped>\n    .dataframe tbody tr th:only-of-type {\n        vertical-align: middle;\n    }\n\n    .dataframe tbody tr th {\n        vertical-align: top;\n    }\n\n    .dataframe thead th {\n        text-align: right;\n    }\n</style>\n<table border=\"1\" class=\"dataframe\">\n  <thead>\n    <tr style=\"text-align: right;\">\n      <th></th>\n      <th>level_0</th>\n      <th>index</th>\n    </tr>\n  </thead>\n  <tbody>\n    <tr>\n      <th>0</th>\n      <td>https://api.github.com/repos/apache/hive/pulls...</td>\n      <td>30</td>\n    </tr>\n    <tr>\n      <th>1</th>\n      <td>https://api.github.com/repos/apache/hive/pulls...</td>\n      <td>30</td>\n    </tr>\n    <tr>\n      <th>2</th>\n      <td>https://api.github.com/repos/apache/hive/pulls...</td>\n      <td>30</td>\n    </tr>\n    <tr>\n      <th>3</th>\n      <td>https://api.github.com/repos/apache/hive/pulls...</td>\n      <td>30</td>\n    </tr>\n    <tr>\n      <th>4</th>\n      <td>https://api.github.com/repos/apache/hive/pulls...</td>\n      <td>30</td>\n    </tr>\n    <tr>\n      <th>...</th>\n      <td>...</td>\n      <td>...</td>\n    </tr>\n    <tr>\n      <th>3883</th>\n      <td>https://api.github.com/repos/apache/hive/pulls...</td>\n      <td>1</td>\n    </tr>\n    <tr>\n      <th>3884</th>\n      <td>https://api.github.com/repos/apache/hive/pulls...</td>\n      <td>1</td>\n    </tr>\n    <tr>\n      <th>3885</th>\n      <td>https://api.github.com/repos/apache/hive/pulls...</td>\n      <td>1</td>\n    </tr>\n    <tr>\n      <th>3886</th>\n      <td>https://api.github.com/repos/apache/hive/pulls...</td>\n      <td>1</td>\n    </tr>\n    <tr>\n      <th>3887</th>\n      <td>https://api.github.com/repos/apache/hive/pulls...</td>\n      <td>1</td>\n    </tr>\n  </tbody>\n</table>\n<p>3888 rows × 2 columns</p>\n</div>"
     },
     "execution_count": 128,
     "metadata": {},
     "output_type": "execute_result"
    }
   ],
   "source": [
    "counts_commit_all = counts_all.reset_index()\n",
    "counts_commit_all"
   ],
   "metadata": {
    "collapsed": false
   }
  },
  {
   "cell_type": "code",
   "execution_count": 129,
   "outputs": [
    {
     "data": {
      "text/plain": "0       https://api.github.com/repos/apache/hive/pulls...\n1       https://api.github.com/repos/apache/hive/pulls...\n2       https://api.github.com/repos/apache/hive/pulls...\n3       https://api.github.com/repos/apache/hive/pulls...\n4       https://api.github.com/repos/apache/hive/pulls...\n                              ...                        \n3883    https://api.github.com/repos/apache/hive/pulls...\n3884    https://api.github.com/repos/apache/hive/pulls...\n3885    https://api.github.com/repos/apache/hive/pulls...\n3886    https://api.github.com/repos/apache/hive/pulls...\n3887    https://api.github.com/repos/apache/hive/pulls...\nName: level_0, Length: 3888, dtype: object"
     },
     "execution_count": 129,
     "metadata": {},
     "output_type": "execute_result"
    }
   ],
   "source": [
    "counts_commit_all['level_0']"
   ],
   "metadata": {
    "collapsed": false
   }
  },
  {
   "cell_type": "code",
   "execution_count": 130,
   "outputs": [
    {
     "data": {
      "text/plain": "0       30\n1       30\n2       30\n3       30\n4       30\n        ..\n3883     1\n3884     1\n3885     1\n3886     1\n3887     1\nName: index, Length: 3888, dtype: int64"
     },
     "execution_count": 130,
     "metadata": {},
     "output_type": "execute_result"
    }
   ],
   "source": [
    "counts_commit_all['index']"
   ],
   "metadata": {
    "collapsed": false
   }
  },
  {
   "cell_type": "code",
   "execution_count": 139,
   "outputs": [
    {
     "data": {
      "text/plain": "0       False\n1       False\n2       False\n3       False\n4       False\n        ...  \n3883     True\n3884     True\n3885     True\n3886     True\n3887     True\nName: index, Length: 3888, dtype: bool"
     },
     "execution_count": 139,
     "metadata": {},
     "output_type": "execute_result"
    }
   ],
   "source": [
    "counts_commit_all['index'] == 1"
   ],
   "metadata": {
    "collapsed": false
   }
  },
  {
   "cell_type": "code",
   "execution_count": 140,
   "outputs": [],
   "source": [
    "counts_pull_more_than_one = []\n",
    "counts_pull_equal_one = []\n",
    "# counts_commit_all_loop = []"
   ],
   "metadata": {
    "collapsed": false
   }
  },
  {
   "cell_type": "code",
   "execution_count": 141,
   "outputs": [
    {
     "ename": "TypeError",
     "evalue": "string indices must be integers",
     "output_type": "error",
     "traceback": [
      "\u001B[0;31m---------------------------------------------------------------------------\u001B[0m",
      "\u001B[0;31mTypeError\u001B[0m                                 Traceback (most recent call last)",
      "Cell \u001B[0;32mIn[141], line 2\u001B[0m\n\u001B[1;32m      1\u001B[0m \u001B[38;5;28;01mfor\u001B[39;00m i \u001B[38;5;129;01min\u001B[39;00m df_all:\n\u001B[0;32m----> 2\u001B[0m     counts_all \u001B[38;5;241m=\u001B[39m \u001B[43mi\u001B[49m\u001B[43m[\u001B[49m\u001B[38;5;124;43m'\u001B[39;49m\u001B[38;5;124;43mindex\u001B[39;49m\u001B[38;5;124;43m'\u001B[39;49m\u001B[43m]\u001B[49m\u001B[38;5;241m.\u001B[39mvalue_counts()\n\u001B[1;32m      3\u001B[0m     counts_commit_all_loop \u001B[38;5;241m=\u001B[39m counts_all\u001B[38;5;241m.\u001B[39mreset_index()\n\u001B[1;32m      4\u001B[0m     \u001B[38;5;28;01mif\u001B[39;00m counts_commit_all_loop[\u001B[38;5;124m'\u001B[39m\u001B[38;5;124mindex\u001B[39m\u001B[38;5;124m'\u001B[39m] \u001B[38;5;241m==\u001B[39m \u001B[38;5;241m1\u001B[39m :\n",
      "\u001B[0;31mTypeError\u001B[0m: string indices must be integers"
     ]
    }
   ],
   "source": [
    "for i in df_all:\n",
    "    counts_all = i['index'].value_counts()\n",
    "    counts_commit_all_loop = counts_all.reset_index()\n",
    "    if counts_commit_all_loop['index'] == 1 :\n",
    "        counts_pull_equal_one = pd.DataFrame(i)\n",
    "        print(counts_pull_equal_one)\n",
    "    else :\n",
    "        counts_pull_more_than_one = pd.DataFrame(i)\n",
    "        print(counts_pull_more_than_one)\n"
   ],
   "metadata": {
    "collapsed": false
   }
  },
  {
   "cell_type": "code",
   "execution_count": 135,
   "outputs": [],
   "source": [
    "data_open_commit = []\n",
    "data_close_commit = []"
   ],
   "metadata": {
    "collapsed": false
   }
  },
  {
   "cell_type": "code",
   "execution_count": 136,
   "outputs": [
    {
     "data": {
      "text/plain": "Unnamed: 0                                                                   10058\nindex                            https://api.github.com/repos/apache/hive/pulls...\nsha                                       eab741b3786563768811336d10fe64e5215fb3be\nnode_id                          MDY6Q29tbWl0MjM0Mjg2MjYwOmVhYjc0MWIzNzg2NTYzNz...\nurl                              https://api.github.com/repos/apache/hive/commi...\n                                                       ...                        \ncommitter.received_events_url                                                  NaN\ncommitter.type                                                                 NaN\ncommitter.site_admin                                                           NaN\ncommitter                                                                      NaN\nauthor                                                                         NaN\nName: 10058, Length: 61, dtype: object"
     },
     "execution_count": 136,
     "metadata": {},
     "output_type": "execute_result"
    }
   ],
   "source": [
    "df_all.iloc[10058]"
   ],
   "metadata": {
    "collapsed": false
   }
  },
  {
   "cell_type": "code",
   "execution_count": 137,
   "outputs": [
    {
     "data": {
      "text/plain": "\"[{'sha': '83a4018c722843ffc74972564d590b0157727d32', 'url': 'https://api.github.com/repos/apache/hive/commits/83a4018c722843ffc74972564d590b0157727d32', 'html_url': 'https://github.com/apache/hive/commit/83a4018c722843ffc74972564d590b0157727d32'}]\""
     },
     "execution_count": 137,
     "metadata": {},
     "output_type": "execute_result"
    }
   ],
   "source": [
    "df_all.iloc[10058]['parents']"
   ],
   "metadata": {
    "collapsed": false
   }
  }
 ],
 "metadata": {
  "kernelspec": {
   "display_name": "Python 3",
   "language": "python",
   "name": "python3"
  },
  "language_info": {
   "codemirror_mode": {
    "name": "ipython",
    "version": 2
   },
   "file_extension": ".py",
   "mimetype": "text/x-python",
   "name": "python",
   "nbconvert_exporter": "python",
   "pygments_lexer": "ipython2",
   "version": "2.7.6"
  }
 },
 "nbformat": 4,
 "nbformat_minor": 0
}
