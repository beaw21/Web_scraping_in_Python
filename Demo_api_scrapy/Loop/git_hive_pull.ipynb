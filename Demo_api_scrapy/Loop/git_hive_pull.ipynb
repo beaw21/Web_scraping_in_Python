{
 "cells": [
  {
   "cell_type": "code",
   "execution_count": 29,
   "metadata": {
    "collapsed": true
   },
   "outputs": [],
   "source": [
    "import pandas as pd"
   ]
  },
  {
   "cell_type": "code",
   "execution_count": 30,
   "outputs": [
    {
     "name": "stderr",
     "output_type": "stream",
     "text": [
      "/var/folders/th/0kcxfvq55q9c2vl9_05p7blh0000gn/T/ipykernel_1508/4003531199.py:1: DtypeWarning: Columns (72) have mixed types. Specify dtype option on import or set low_memory=False.\n",
      "  df = pd.read_csv('git_all_pull_not_null.csv')\n"
     ]
    }
   ],
   "source": [
    "df = pd.read_csv('git_all_pull_not_null.csv')\n",
    "\n",
    "df_pull_commit = pd.read_csv('get_pull_commits_all.csv')\n",
    "df_pull_commit_2 = pd.read_csv('commit_of_pull_705_1.csv')"
   ],
   "metadata": {
    "collapsed": false
   }
  },
  {
   "cell_type": "markdown",
   "source": [],
   "metadata": {
    "collapsed": false
   }
  },
  {
   "cell_type": "code",
   "execution_count": 31,
   "outputs": [
    {
     "data": {
      "text/plain": "'https://api.github.com/repos/apache/hive/pulls/694/commits'"
     },
     "execution_count": 31,
     "metadata": {},
     "output_type": "execute_result"
    }
   ],
   "source": [
    "df_pull_commit['index'][11044]"
   ],
   "metadata": {
    "collapsed": false
   }
  },
  {
   "cell_type": "code",
   "execution_count": 32,
   "outputs": [
    {
     "data": {
      "text/plain": "                                                  index  \\\n20    https://api.github.com/repos/apache/hive/pulls...   \n21    https://api.github.com/repos/apache/hive/pulls...   \n22    https://api.github.com/repos/apache/hive/pulls...   \n23    https://api.github.com/repos/apache/hive/pulls...   \n24    https://api.github.com/repos/apache/hive/pulls...   \n...                                                 ...   \n2492  https://api.github.com/repos/apache/hive/pulls...   \n2493  https://api.github.com/repos/apache/hive/pulls...   \n2494  https://api.github.com/repos/apache/hive/pulls...   \n2495  https://api.github.com/repos/apache/hive/pulls...   \n2496  https://api.github.com/repos/apache/hive/pulls...   \n\n                                           sha  \\\n20    3ca1b5027f58e0f688cc8fe27eed36d08671136a   \n21    ad5c6cdbeb90260d9d6204d6a2aba2989b71dc1c   \n22    3ce09d0c1b702ffdb7b569555f75ada89f75f67a   \n23    a0b4c8feb5a7a26535adc752c68fa53e1f9ecd1d   \n24    5aecf14b9f6bdede8cab10abe562d0e3eedd375c   \n...                                        ...   \n2492  b04fae4b1e06fadab75976f7f54686eb42554022   \n2493  df6bc4d1026b5f17feb811fd50292f81df86b71b   \n2494  6122438708e3054baa24ce0e13d12f9405272fb0   \n2495  1f6037abcba91187700408a624d0f2780d2a016a   \n2496  b35a5c9702c6b997b42949db848fbcfd7ae6712d   \n\n                                                node_id  \\\n20    MDY6Q29tbWl0NzUwMjE2Mzc6M2NhMWI1MDI3ZjU4ZTBmNj...   \n21    MDY6Q29tbWl0MTc2OTM3ODA4OmFkNWM2Y2RiZWI5MDI2MG...   \n22    MDY6Q29tbWl0MTc2OTM3ODA4OjNjZTA5ZDBjMWI3MDJmZm...   \n23    MDY6Q29tbWl0NjAyNDkzOTQ6YTBiNGM4ZmViNWE3YTI2NT...   \n24    MDY6Q29tbWl0NjAyNDkzOTQ6NWFlY2YxNGI5ZjZiZGVkZT...   \n...                                                 ...   \n2492  MDY6Q29tbWl0MjA2NDQ0OmIwNGZhZTRiMWUwNmZhZGFiNz...   \n2493  MDY6Q29tbWl0MjE4OTk0ODpkZjZiYzRkMTAyNmI1ZjE3Zm...   \n2494  MDY6Q29tbWl0MjE4OTk0ODo2MTIyNDM4NzA4ZTMwNTRiYW...   \n2495  MDY6Q29tbWl0MjA0NzI5ODoxZjYwMzdhYmNiYTkxMTg3Nz...   \n2496  MDY6Q29tbWl0MjA0NzI5ODpiMzVhNWM5NzAyYzZiOTk3Yj...   \n\n                                                    url  \\\n20    https://api.github.com/repos/apache/hive/commi...   \n21    https://api.github.com/repos/apache/hive/commi...   \n22    https://api.github.com/repos/apache/hive/commi...   \n23    https://api.github.com/repos/apache/hive/commi...   \n24    https://api.github.com/repos/apache/hive/commi...   \n...                                                 ...   \n2492  https://api.github.com/repos/apache/hive/commi...   \n2493  https://api.github.com/repos/apache/hive/commi...   \n2494  https://api.github.com/repos/apache/hive/commi...   \n2495  https://api.github.com/repos/apache/hive/commi...   \n2496  https://api.github.com/repos/apache/hive/commi...   \n\n                                               html_url  \\\n20    https://github.com/apache/hive/commit/3ca1b502...   \n21    https://github.com/apache/hive/commit/ad5c6cdb...   \n22    https://github.com/apache/hive/commit/3ce09d0c...   \n23    https://github.com/apache/hive/commit/a0b4c8fe...   \n24    https://github.com/apache/hive/commit/5aecf14b...   \n...                                                 ...   \n2492  https://github.com/apache/hive/commit/b04fae4b...   \n2493  https://github.com/apache/hive/commit/df6bc4d1...   \n2494  https://github.com/apache/hive/commit/61224387...   \n2495  https://github.com/apache/hive/commit/1f6037ab...   \n2496  https://github.com/apache/hive/commit/b35a5c97...   \n\n                                           comments_url  \\\n20    https://api.github.com/repos/apache/hive/commi...   \n21    https://api.github.com/repos/apache/hive/commi...   \n22    https://api.github.com/repos/apache/hive/commi...   \n23    https://api.github.com/repos/apache/hive/commi...   \n24    https://api.github.com/repos/apache/hive/commi...   \n...                                                 ...   \n2492  https://api.github.com/repos/apache/hive/commi...   \n2493  https://api.github.com/repos/apache/hive/commi...   \n2494  https://api.github.com/repos/apache/hive/commi...   \n2495  https://api.github.com/repos/apache/hive/commi...   \n2496  https://api.github.com/repos/apache/hive/commi...   \n\n                                                parents commit.author.name  \\\n20    [{'sha': '2d9e0e41ec6db234b8a759f1c5aff8f79227...        Vineet Garg   \n21    [{'sha': '2039350ca172c1635e745df1c7231d2f3f31...   Fokko Driesprong   \n22    [{'sha': 'ad5c6cdbeb90260d9d6204d6a2aba2989b71...   Fokko Driesprong   \n23    [{'sha': 'e000e2fa3a9a3c7007597121099b34f52bba...         Peter Vary   \n24    [{'sha': 'a0b4c8feb5a7a26535adc752c68fa53e1f9e...         Peter Vary   \n...                                                 ...                ...   \n2492  [{'sha': 'a3dac3b98e98282f2a6ecc01e31d8711eec1...      Clément Notin   \n2493  [{'sha': '38ca5d3b52ac893ec20e7bf8d47ee188f61e...     Jonathan Chang   \n2494  [{'sha': 'df6bc4d1026b5f17feb811fd50292f81df86...     Jonathan Chang   \n2495  [{'sha': 'cefcddd47dd4875c722fabb44797032d752d...                guy   \n2496  [{'sha': '1f6037abcba91187700408a624d0f2780d2a...                guy   \n\n           commit.author.email    commit.author.date  ...  \\\n20            vgarg@apache.org  2019-06-25T00:23:16Z  ...   \n21            fokko@apache.org  2019-06-27T13:14:18Z  ...   \n22            fokko@apache.org  2019-06-27T16:33:15Z  ...   \n23          pvary@cloudera.com  2019-06-27T11:32:55Z  ...   \n24          pvary@cloudera.com  2019-06-28T14:40:33Z  ...   \n...                        ...                   ...  ...   \n2492         clement@notin.org  2011-08-11T17:47:08Z  ...   \n2493           jonchang@fb.com  2011-08-11T08:25:19Z  ...   \n2494           jonchang@fb.com  2011-08-11T08:25:19Z  ...   \n2495  guy.doulberg@conduit.com  2011-07-17T06:16:30Z  ...   \n2496  guy.doulberg@conduit.com  2011-07-19T15:14:12Z  ...   \n\n                                  committer.starred_url  \\\n20    https://api.github.com/users/vineetgarg02/star...   \n21    https://api.github.com/users/Fokko/starred{/ow...   \n22    https://api.github.com/users/Fokko/starred{/ow...   \n23                                                  NaN   \n24                                                  NaN   \n...                                                 ...   \n2492  https://api.github.com/users/cnotin/starred{/o...   \n2493                                                NaN   \n2494                                                NaN   \n2495                                                NaN   \n2496                                                NaN   \n\n                            committer.subscriptions_url  \\\n20    https://api.github.com/users/vineetgarg02/subs...   \n21     https://api.github.com/users/Fokko/subscriptions   \n22     https://api.github.com/users/Fokko/subscriptions   \n23                                                  NaN   \n24                                                  NaN   \n...                                                 ...   \n2492  https://api.github.com/users/cnotin/subscriptions   \n2493                                                NaN   \n2494                                                NaN   \n2495                                                NaN   \n2496                                                NaN   \n\n                         committer.organizations_url  \\\n20    https://api.github.com/users/vineetgarg02/orgs   \n21           https://api.github.com/users/Fokko/orgs   \n22           https://api.github.com/users/Fokko/orgs   \n23                                               NaN   \n24                                               NaN   \n...                                              ...   \n2492        https://api.github.com/users/cnotin/orgs   \n2493                                             NaN   \n2494                                             NaN   \n2495                                             NaN   \n2496                                             NaN   \n\n                                  committer.repos_url  \\\n20    https://api.github.com/users/vineetgarg02/repos   \n21           https://api.github.com/users/Fokko/repos   \n22           https://api.github.com/users/Fokko/repos   \n23                                                NaN   \n24                                                NaN   \n...                                               ...   \n2492        https://api.github.com/users/cnotin/repos   \n2493                                              NaN   \n2494                                              NaN   \n2495                                              NaN   \n2496                                              NaN   \n\n                                   committer.events_url  \\\n20    https://api.github.com/users/vineetgarg02/even...   \n21    https://api.github.com/users/Fokko/events{/pri...   \n22    https://api.github.com/users/Fokko/events{/pri...   \n23                                                  NaN   \n24                                                  NaN   \n...                                                 ...   \n2492  https://api.github.com/users/cnotin/events{/pr...   \n2493                                                NaN   \n2494                                                NaN   \n2495                                                NaN   \n2496                                                NaN   \n\n                          committer.received_events_url committer.type  \\\n20    https://api.github.com/users/vineetgarg02/rece...           User   \n21    https://api.github.com/users/Fokko/received_ev...           User   \n22    https://api.github.com/users/Fokko/received_ev...           User   \n23                                                  NaN            NaN   \n24                                                  NaN            NaN   \n...                                                 ...            ...   \n2492  https://api.github.com/users/cnotin/received_e...           User   \n2493                                                NaN            NaN   \n2494                                                NaN            NaN   \n2495                                                NaN            NaN   \n2496                                                NaN            NaN   \n\n      committer.site_admin  author committer  \n20                   False     NaN       NaN  \n21                   False     NaN       NaN  \n22                   False     NaN       NaN  \n23                     NaN     NaN       NaN  \n24                     NaN     NaN       NaN  \n...                    ...     ...       ...  \n2492                 False     NaN       NaN  \n2493                   NaN     NaN       NaN  \n2494                   NaN     NaN       NaN  \n2495                   NaN     NaN       NaN  \n2496                   NaN     NaN       NaN  \n\n[2477 rows x 60 columns]",
      "text/html": "<div>\n<style scoped>\n    .dataframe tbody tr th:only-of-type {\n        vertical-align: middle;\n    }\n\n    .dataframe tbody tr th {\n        vertical-align: top;\n    }\n\n    .dataframe thead th {\n        text-align: right;\n    }\n</style>\n<table border=\"1\" class=\"dataframe\">\n  <thead>\n    <tr style=\"text-align: right;\">\n      <th></th>\n      <th>index</th>\n      <th>sha</th>\n      <th>node_id</th>\n      <th>url</th>\n      <th>html_url</th>\n      <th>comments_url</th>\n      <th>parents</th>\n      <th>commit.author.name</th>\n      <th>commit.author.email</th>\n      <th>commit.author.date</th>\n      <th>...</th>\n      <th>committer.starred_url</th>\n      <th>committer.subscriptions_url</th>\n      <th>committer.organizations_url</th>\n      <th>committer.repos_url</th>\n      <th>committer.events_url</th>\n      <th>committer.received_events_url</th>\n      <th>committer.type</th>\n      <th>committer.site_admin</th>\n      <th>author</th>\n      <th>committer</th>\n    </tr>\n  </thead>\n  <tbody>\n    <tr>\n      <th>20</th>\n      <td>https://api.github.com/repos/apache/hive/pulls...</td>\n      <td>3ca1b5027f58e0f688cc8fe27eed36d08671136a</td>\n      <td>MDY6Q29tbWl0NzUwMjE2Mzc6M2NhMWI1MDI3ZjU4ZTBmNj...</td>\n      <td>https://api.github.com/repos/apache/hive/commi...</td>\n      <td>https://github.com/apache/hive/commit/3ca1b502...</td>\n      <td>https://api.github.com/repos/apache/hive/commi...</td>\n      <td>[{'sha': '2d9e0e41ec6db234b8a759f1c5aff8f79227...</td>\n      <td>Vineet Garg</td>\n      <td>vgarg@apache.org</td>\n      <td>2019-06-25T00:23:16Z</td>\n      <td>...</td>\n      <td>https://api.github.com/users/vineetgarg02/star...</td>\n      <td>https://api.github.com/users/vineetgarg02/subs...</td>\n      <td>https://api.github.com/users/vineetgarg02/orgs</td>\n      <td>https://api.github.com/users/vineetgarg02/repos</td>\n      <td>https://api.github.com/users/vineetgarg02/even...</td>\n      <td>https://api.github.com/users/vineetgarg02/rece...</td>\n      <td>User</td>\n      <td>False</td>\n      <td>NaN</td>\n      <td>NaN</td>\n    </tr>\n    <tr>\n      <th>21</th>\n      <td>https://api.github.com/repos/apache/hive/pulls...</td>\n      <td>ad5c6cdbeb90260d9d6204d6a2aba2989b71dc1c</td>\n      <td>MDY6Q29tbWl0MTc2OTM3ODA4OmFkNWM2Y2RiZWI5MDI2MG...</td>\n      <td>https://api.github.com/repos/apache/hive/commi...</td>\n      <td>https://github.com/apache/hive/commit/ad5c6cdb...</td>\n      <td>https://api.github.com/repos/apache/hive/commi...</td>\n      <td>[{'sha': '2039350ca172c1635e745df1c7231d2f3f31...</td>\n      <td>Fokko Driesprong</td>\n      <td>fokko@apache.org</td>\n      <td>2019-06-27T13:14:18Z</td>\n      <td>...</td>\n      <td>https://api.github.com/users/Fokko/starred{/ow...</td>\n      <td>https://api.github.com/users/Fokko/subscriptions</td>\n      <td>https://api.github.com/users/Fokko/orgs</td>\n      <td>https://api.github.com/users/Fokko/repos</td>\n      <td>https://api.github.com/users/Fokko/events{/pri...</td>\n      <td>https://api.github.com/users/Fokko/received_ev...</td>\n      <td>User</td>\n      <td>False</td>\n      <td>NaN</td>\n      <td>NaN</td>\n    </tr>\n    <tr>\n      <th>22</th>\n      <td>https://api.github.com/repos/apache/hive/pulls...</td>\n      <td>3ce09d0c1b702ffdb7b569555f75ada89f75f67a</td>\n      <td>MDY6Q29tbWl0MTc2OTM3ODA4OjNjZTA5ZDBjMWI3MDJmZm...</td>\n      <td>https://api.github.com/repos/apache/hive/commi...</td>\n      <td>https://github.com/apache/hive/commit/3ce09d0c...</td>\n      <td>https://api.github.com/repos/apache/hive/commi...</td>\n      <td>[{'sha': 'ad5c6cdbeb90260d9d6204d6a2aba2989b71...</td>\n      <td>Fokko Driesprong</td>\n      <td>fokko@apache.org</td>\n      <td>2019-06-27T16:33:15Z</td>\n      <td>...</td>\n      <td>https://api.github.com/users/Fokko/starred{/ow...</td>\n      <td>https://api.github.com/users/Fokko/subscriptions</td>\n      <td>https://api.github.com/users/Fokko/orgs</td>\n      <td>https://api.github.com/users/Fokko/repos</td>\n      <td>https://api.github.com/users/Fokko/events{/pri...</td>\n      <td>https://api.github.com/users/Fokko/received_ev...</td>\n      <td>User</td>\n      <td>False</td>\n      <td>NaN</td>\n      <td>NaN</td>\n    </tr>\n    <tr>\n      <th>23</th>\n      <td>https://api.github.com/repos/apache/hive/pulls...</td>\n      <td>a0b4c8feb5a7a26535adc752c68fa53e1f9ecd1d</td>\n      <td>MDY6Q29tbWl0NjAyNDkzOTQ6YTBiNGM4ZmViNWE3YTI2NT...</td>\n      <td>https://api.github.com/repos/apache/hive/commi...</td>\n      <td>https://github.com/apache/hive/commit/a0b4c8fe...</td>\n      <td>https://api.github.com/repos/apache/hive/commi...</td>\n      <td>[{'sha': 'e000e2fa3a9a3c7007597121099b34f52bba...</td>\n      <td>Peter Vary</td>\n      <td>pvary@cloudera.com</td>\n      <td>2019-06-27T11:32:55Z</td>\n      <td>...</td>\n      <td>NaN</td>\n      <td>NaN</td>\n      <td>NaN</td>\n      <td>NaN</td>\n      <td>NaN</td>\n      <td>NaN</td>\n      <td>NaN</td>\n      <td>NaN</td>\n      <td>NaN</td>\n      <td>NaN</td>\n    </tr>\n    <tr>\n      <th>24</th>\n      <td>https://api.github.com/repos/apache/hive/pulls...</td>\n      <td>5aecf14b9f6bdede8cab10abe562d0e3eedd375c</td>\n      <td>MDY6Q29tbWl0NjAyNDkzOTQ6NWFlY2YxNGI5ZjZiZGVkZT...</td>\n      <td>https://api.github.com/repos/apache/hive/commi...</td>\n      <td>https://github.com/apache/hive/commit/5aecf14b...</td>\n      <td>https://api.github.com/repos/apache/hive/commi...</td>\n      <td>[{'sha': 'a0b4c8feb5a7a26535adc752c68fa53e1f9e...</td>\n      <td>Peter Vary</td>\n      <td>pvary@cloudera.com</td>\n      <td>2019-06-28T14:40:33Z</td>\n      <td>...</td>\n      <td>NaN</td>\n      <td>NaN</td>\n      <td>NaN</td>\n      <td>NaN</td>\n      <td>NaN</td>\n      <td>NaN</td>\n      <td>NaN</td>\n      <td>NaN</td>\n      <td>NaN</td>\n      <td>NaN</td>\n    </tr>\n    <tr>\n      <th>...</th>\n      <td>...</td>\n      <td>...</td>\n      <td>...</td>\n      <td>...</td>\n      <td>...</td>\n      <td>...</td>\n      <td>...</td>\n      <td>...</td>\n      <td>...</td>\n      <td>...</td>\n      <td>...</td>\n      <td>...</td>\n      <td>...</td>\n      <td>...</td>\n      <td>...</td>\n      <td>...</td>\n      <td>...</td>\n      <td>...</td>\n      <td>...</td>\n      <td>...</td>\n      <td>...</td>\n    </tr>\n    <tr>\n      <th>2492</th>\n      <td>https://api.github.com/repos/apache/hive/pulls...</td>\n      <td>b04fae4b1e06fadab75976f7f54686eb42554022</td>\n      <td>MDY6Q29tbWl0MjA2NDQ0OmIwNGZhZTRiMWUwNmZhZGFiNz...</td>\n      <td>https://api.github.com/repos/apache/hive/commi...</td>\n      <td>https://github.com/apache/hive/commit/b04fae4b...</td>\n      <td>https://api.github.com/repos/apache/hive/commi...</td>\n      <td>[{'sha': 'a3dac3b98e98282f2a6ecc01e31d8711eec1...</td>\n      <td>Clément Notin</td>\n      <td>clement@notin.org</td>\n      <td>2011-08-11T17:47:08Z</td>\n      <td>...</td>\n      <td>https://api.github.com/users/cnotin/starred{/o...</td>\n      <td>https://api.github.com/users/cnotin/subscriptions</td>\n      <td>https://api.github.com/users/cnotin/orgs</td>\n      <td>https://api.github.com/users/cnotin/repos</td>\n      <td>https://api.github.com/users/cnotin/events{/pr...</td>\n      <td>https://api.github.com/users/cnotin/received_e...</td>\n      <td>User</td>\n      <td>False</td>\n      <td>NaN</td>\n      <td>NaN</td>\n    </tr>\n    <tr>\n      <th>2493</th>\n      <td>https://api.github.com/repos/apache/hive/pulls...</td>\n      <td>df6bc4d1026b5f17feb811fd50292f81df86b71b</td>\n      <td>MDY6Q29tbWl0MjE4OTk0ODpkZjZiYzRkMTAyNmI1ZjE3Zm...</td>\n      <td>https://api.github.com/repos/apache/hive/commi...</td>\n      <td>https://github.com/apache/hive/commit/df6bc4d1...</td>\n      <td>https://api.github.com/repos/apache/hive/commi...</td>\n      <td>[{'sha': '38ca5d3b52ac893ec20e7bf8d47ee188f61e...</td>\n      <td>Jonathan Chang</td>\n      <td>jonchang@fb.com</td>\n      <td>2011-08-11T08:25:19Z</td>\n      <td>...</td>\n      <td>NaN</td>\n      <td>NaN</td>\n      <td>NaN</td>\n      <td>NaN</td>\n      <td>NaN</td>\n      <td>NaN</td>\n      <td>NaN</td>\n      <td>NaN</td>\n      <td>NaN</td>\n      <td>NaN</td>\n    </tr>\n    <tr>\n      <th>2494</th>\n      <td>https://api.github.com/repos/apache/hive/pulls...</td>\n      <td>6122438708e3054baa24ce0e13d12f9405272fb0</td>\n      <td>MDY6Q29tbWl0MjE4OTk0ODo2MTIyNDM4NzA4ZTMwNTRiYW...</td>\n      <td>https://api.github.com/repos/apache/hive/commi...</td>\n      <td>https://github.com/apache/hive/commit/61224387...</td>\n      <td>https://api.github.com/repos/apache/hive/commi...</td>\n      <td>[{'sha': 'df6bc4d1026b5f17feb811fd50292f81df86...</td>\n      <td>Jonathan Chang</td>\n      <td>jonchang@fb.com</td>\n      <td>2011-08-11T08:25:19Z</td>\n      <td>...</td>\n      <td>NaN</td>\n      <td>NaN</td>\n      <td>NaN</td>\n      <td>NaN</td>\n      <td>NaN</td>\n      <td>NaN</td>\n      <td>NaN</td>\n      <td>NaN</td>\n      <td>NaN</td>\n      <td>NaN</td>\n    </tr>\n    <tr>\n      <th>2495</th>\n      <td>https://api.github.com/repos/apache/hive/pulls...</td>\n      <td>1f6037abcba91187700408a624d0f2780d2a016a</td>\n      <td>MDY6Q29tbWl0MjA0NzI5ODoxZjYwMzdhYmNiYTkxMTg3Nz...</td>\n      <td>https://api.github.com/repos/apache/hive/commi...</td>\n      <td>https://github.com/apache/hive/commit/1f6037ab...</td>\n      <td>https://api.github.com/repos/apache/hive/commi...</td>\n      <td>[{'sha': 'cefcddd47dd4875c722fabb44797032d752d...</td>\n      <td>guy</td>\n      <td>guy.doulberg@conduit.com</td>\n      <td>2011-07-17T06:16:30Z</td>\n      <td>...</td>\n      <td>NaN</td>\n      <td>NaN</td>\n      <td>NaN</td>\n      <td>NaN</td>\n      <td>NaN</td>\n      <td>NaN</td>\n      <td>NaN</td>\n      <td>NaN</td>\n      <td>NaN</td>\n      <td>NaN</td>\n    </tr>\n    <tr>\n      <th>2496</th>\n      <td>https://api.github.com/repos/apache/hive/pulls...</td>\n      <td>b35a5c9702c6b997b42949db848fbcfd7ae6712d</td>\n      <td>MDY6Q29tbWl0MjA0NzI5ODpiMzVhNWM5NzAyYzZiOTk3Yj...</td>\n      <td>https://api.github.com/repos/apache/hive/commi...</td>\n      <td>https://github.com/apache/hive/commit/b35a5c97...</td>\n      <td>https://api.github.com/repos/apache/hive/commi...</td>\n      <td>[{'sha': '1f6037abcba91187700408a624d0f2780d2a...</td>\n      <td>guy</td>\n      <td>guy.doulberg@conduit.com</td>\n      <td>2011-07-19T15:14:12Z</td>\n      <td>...</td>\n      <td>NaN</td>\n      <td>NaN</td>\n      <td>NaN</td>\n      <td>NaN</td>\n      <td>NaN</td>\n      <td>NaN</td>\n      <td>NaN</td>\n      <td>NaN</td>\n      <td>NaN</td>\n      <td>NaN</td>\n    </tr>\n  </tbody>\n</table>\n<p>2477 rows × 60 columns</p>\n</div>"
     },
     "execution_count": 32,
     "metadata": {},
     "output_type": "execute_result"
    }
   ],
   "source": [
    "df_pull_commit_2[20:]"
   ],
   "metadata": {
    "collapsed": false
   }
  },
  {
   "cell_type": "code",
   "execution_count": 33,
   "outputs": [],
   "source": [
    "all_pull_commit = pd.concat([df_pull_commit, df_pull_commit_2[20:]], ignore_index=True)"
   ],
   "metadata": {
    "collapsed": false
   }
  },
  {
   "cell_type": "code",
   "execution_count": 47,
   "outputs": [],
   "source": [
    "all_pull_commit.to_csv('commit_of_all_pull_hive.csv')"
   ],
   "metadata": {
    "collapsed": false
   }
  },
  {
   "cell_type": "code",
   "execution_count": 35,
   "outputs": [
    {
     "data": {
      "text/plain": "'https://api.github.com/repos/apache/hive/pulls/2/commits'"
     },
     "execution_count": 35,
     "metadata": {},
     "output_type": "execute_result"
    }
   ],
   "source": [
    "all_pull_commit['index'][13519]"
   ],
   "metadata": {
    "collapsed": false
   }
  },
  {
   "cell_type": "code",
   "execution_count": 38,
   "outputs": [
    {
     "data": {
      "text/plain": "                                                                     min  \\\nindex                                                                      \nhttps://api.github.com/repos/apache/hive/pulls/...  2011-07-17T06:16:30Z   \nhttps://api.github.com/repos/apache/hive/pulls/...  2011-12-08T03:47:19Z   \nhttps://api.github.com/repos/apache/hive/pulls/...  2016-06-15T17:19:30Z   \nhttps://api.github.com/repos/apache/hive/pulls/...  2020-03-04T22:39:33Z   \nhttps://api.github.com/repos/apache/hive/pulls/...  2020-05-01T13:24:39Z   \n...                                                                  ...   \nhttps://api.github.com/repos/apache/hive/pulls/...  2019-03-19T09:58:30Z   \nhttps://api.github.com/repos/apache/hive/pulls/...  2020-04-25T14:04:41Z   \nhttps://api.github.com/repos/apache/hive/pulls/...  2020-04-25T15:06:01Z   \nhttps://api.github.com/repos/apache/hive/pulls/...  2020-04-28T13:24:25Z   \nhttps://api.github.com/repos/apache/hive/pulls/...  2020-04-28T17:54:23Z   \n\n                                                                     max  \nindex                                                                     \nhttps://api.github.com/repos/apache/hive/pulls/...  2011-07-19T15:14:12Z  \nhttps://api.github.com/repos/apache/hive/pulls/...  2012-01-25T01:24:44Z  \nhttps://api.github.com/repos/apache/hive/pulls/...  2016-06-21T19:11:28Z  \nhttps://api.github.com/repos/apache/hive/pulls/...  2020-03-05T22:21:55Z  \nhttps://api.github.com/repos/apache/hive/pulls/...  2020-05-01T20:57:13Z  \n...                                                                  ...  \nhttps://api.github.com/repos/apache/hive/pulls/...  2020-02-11T12:17:31Z  \nhttps://api.github.com/repos/apache/hive/pulls/...  2020-04-25T14:04:41Z  \nhttps://api.github.com/repos/apache/hive/pulls/...  2020-04-25T15:06:01Z  \nhttps://api.github.com/repos/apache/hive/pulls/...  2020-04-29T13:18:01Z  \nhttps://api.github.com/repos/apache/hive/pulls/...  2020-04-28T17:54:23Z  \n\n[3888 rows x 2 columns]",
      "text/html": "<div>\n<style scoped>\n    .dataframe tbody tr th:only-of-type {\n        vertical-align: middle;\n    }\n\n    .dataframe tbody tr th {\n        vertical-align: top;\n    }\n\n    .dataframe thead th {\n        text-align: right;\n    }\n</style>\n<table border=\"1\" class=\"dataframe\">\n  <thead>\n    <tr style=\"text-align: right;\">\n      <th></th>\n      <th>min</th>\n      <th>max</th>\n    </tr>\n    <tr>\n      <th>index</th>\n      <th></th>\n      <th></th>\n    </tr>\n  </thead>\n  <tbody>\n    <tr>\n      <th>https://api.github.com/repos/apache/hive/pulls/1/commits</th>\n      <td>2011-07-17T06:16:30Z</td>\n      <td>2011-07-19T15:14:12Z</td>\n    </tr>\n    <tr>\n      <th>https://api.github.com/repos/apache/hive/pulls/10/commits</th>\n      <td>2011-12-08T03:47:19Z</td>\n      <td>2012-01-25T01:24:44Z</td>\n    </tr>\n    <tr>\n      <th>https://api.github.com/repos/apache/hive/pulls/100/commits</th>\n      <td>2016-06-15T17:19:30Z</td>\n      <td>2016-06-21T19:11:28Z</td>\n    </tr>\n    <tr>\n      <th>https://api.github.com/repos/apache/hive/pulls/1000/commits</th>\n      <td>2020-03-04T22:39:33Z</td>\n      <td>2020-03-05T22:21:55Z</td>\n    </tr>\n    <tr>\n      <th>https://api.github.com/repos/apache/hive/pulls/1001/commits</th>\n      <td>2020-05-01T13:24:39Z</td>\n      <td>2020-05-01T20:57:13Z</td>\n    </tr>\n    <tr>\n      <th>...</th>\n      <td>...</td>\n      <td>...</td>\n    </tr>\n    <tr>\n      <th>https://api.github.com/repos/apache/hive/pulls/994/commits</th>\n      <td>2019-03-19T09:58:30Z</td>\n      <td>2020-02-11T12:17:31Z</td>\n    </tr>\n    <tr>\n      <th>https://api.github.com/repos/apache/hive/pulls/995/commits</th>\n      <td>2020-04-25T14:04:41Z</td>\n      <td>2020-04-25T14:04:41Z</td>\n    </tr>\n    <tr>\n      <th>https://api.github.com/repos/apache/hive/pulls/996/commits</th>\n      <td>2020-04-25T15:06:01Z</td>\n      <td>2020-04-25T15:06:01Z</td>\n    </tr>\n    <tr>\n      <th>https://api.github.com/repos/apache/hive/pulls/998/commits</th>\n      <td>2020-04-28T13:24:25Z</td>\n      <td>2020-04-29T13:18:01Z</td>\n    </tr>\n    <tr>\n      <th>https://api.github.com/repos/apache/hive/pulls/999/commits</th>\n      <td>2020-04-28T17:54:23Z</td>\n      <td>2020-04-28T17:54:23Z</td>\n    </tr>\n  </tbody>\n</table>\n<p>3888 rows × 2 columns</p>\n</div>"
     },
     "execution_count": 38,
     "metadata": {},
     "output_type": "execute_result"
    }
   ],
   "source": [
    "all_pull_commit.groupby('index')['commit.committer.date'].agg(['min', 'max'])"
   ],
   "metadata": {
    "collapsed": false
   }
  },
  {
   "cell_type": "code",
   "execution_count": 40,
   "outputs": [
    {
     "ename": "KeyError",
     "evalue": "'index'",
     "output_type": "error",
     "traceback": [
      "\u001B[0;31m---------------------------------------------------------------------------\u001B[0m",
      "\u001B[0;31mKeyError\u001B[0m                                  Traceback (most recent call last)",
      "Cell \u001B[0;32mIn[40], line 1\u001B[0m\n\u001B[0;32m----> 1\u001B[0m \u001B[43mall_pull_commit\u001B[49m\u001B[43m[\u001B[49m\u001B[38;5;124;43m'\u001B[39;49m\u001B[38;5;124;43mcommit.committer.date\u001B[39;49m\u001B[38;5;124;43m'\u001B[39;49m\u001B[43m]\u001B[49m\u001B[38;5;241;43m.\u001B[39;49m\u001B[43magg\u001B[49m\u001B[43m(\u001B[49m\u001B[43m[\u001B[49m\u001B[38;5;124;43m'\u001B[39;49m\u001B[38;5;124;43mmax\u001B[39;49m\u001B[38;5;124;43m'\u001B[39;49m\u001B[43m,\u001B[49m\u001B[43m \u001B[49m\u001B[38;5;124;43m'\u001B[39;49m\u001B[38;5;124;43mmin\u001B[39;49m\u001B[38;5;124;43m'\u001B[39;49m\u001B[43m]\u001B[49m\u001B[43m)\u001B[49m\u001B[38;5;241;43m.\u001B[39;49m\u001B[43mgroupby\u001B[49m\u001B[43m(\u001B[49m\u001B[38;5;124;43m'\u001B[39;49m\u001B[38;5;124;43mindex\u001B[39;49m\u001B[38;5;124;43m'\u001B[39;49m\u001B[43m)\u001B[49m\n",
      "File \u001B[0;32m/Library/Python/3.9/site-packages/pandas/core/series.py:2076\u001B[0m, in \u001B[0;36mSeries.groupby\u001B[0;34m(self, by, axis, level, as_index, sort, group_keys, squeeze, observed, dropna)\u001B[0m\n\u001B[1;32m   2073\u001B[0m     \u001B[38;5;28;01mraise\u001B[39;00m \u001B[38;5;167;01mTypeError\u001B[39;00m(\u001B[38;5;124m\"\u001B[39m\u001B[38;5;124mYou have to supply one of \u001B[39m\u001B[38;5;124m'\u001B[39m\u001B[38;5;124mby\u001B[39m\u001B[38;5;124m'\u001B[39m\u001B[38;5;124m and \u001B[39m\u001B[38;5;124m'\u001B[39m\u001B[38;5;124mlevel\u001B[39m\u001B[38;5;124m'\u001B[39m\u001B[38;5;124m\"\u001B[39m)\n\u001B[1;32m   2074\u001B[0m axis \u001B[38;5;241m=\u001B[39m \u001B[38;5;28mself\u001B[39m\u001B[38;5;241m.\u001B[39m_get_axis_number(axis)\n\u001B[0;32m-> 2076\u001B[0m \u001B[38;5;28;01mreturn\u001B[39;00m \u001B[43mSeriesGroupBy\u001B[49m\u001B[43m(\u001B[49m\n\u001B[1;32m   2077\u001B[0m \u001B[43m    \u001B[49m\u001B[43mobj\u001B[49m\u001B[38;5;241;43m=\u001B[39;49m\u001B[38;5;28;43mself\u001B[39;49m\u001B[43m,\u001B[49m\n\u001B[1;32m   2078\u001B[0m \u001B[43m    \u001B[49m\u001B[43mkeys\u001B[49m\u001B[38;5;241;43m=\u001B[39;49m\u001B[43mby\u001B[49m\u001B[43m,\u001B[49m\n\u001B[1;32m   2079\u001B[0m \u001B[43m    \u001B[49m\u001B[43maxis\u001B[49m\u001B[38;5;241;43m=\u001B[39;49m\u001B[43maxis\u001B[49m\u001B[43m,\u001B[49m\n\u001B[1;32m   2080\u001B[0m \u001B[43m    \u001B[49m\u001B[43mlevel\u001B[49m\u001B[38;5;241;43m=\u001B[39;49m\u001B[43mlevel\u001B[49m\u001B[43m,\u001B[49m\n\u001B[1;32m   2081\u001B[0m \u001B[43m    \u001B[49m\u001B[43mas_index\u001B[49m\u001B[38;5;241;43m=\u001B[39;49m\u001B[43mas_index\u001B[49m\u001B[43m,\u001B[49m\n\u001B[1;32m   2082\u001B[0m \u001B[43m    \u001B[49m\u001B[43msort\u001B[49m\u001B[38;5;241;43m=\u001B[39;49m\u001B[43msort\u001B[49m\u001B[43m,\u001B[49m\n\u001B[1;32m   2083\u001B[0m \u001B[43m    \u001B[49m\u001B[43mgroup_keys\u001B[49m\u001B[38;5;241;43m=\u001B[39;49m\u001B[43mgroup_keys\u001B[49m\u001B[43m,\u001B[49m\n\u001B[1;32m   2084\u001B[0m \u001B[43m    \u001B[49m\u001B[43msqueeze\u001B[49m\u001B[38;5;241;43m=\u001B[39;49m\u001B[43msqueeze\u001B[49m\u001B[43m,\u001B[49m\n\u001B[1;32m   2085\u001B[0m \u001B[43m    \u001B[49m\u001B[43mobserved\u001B[49m\u001B[38;5;241;43m=\u001B[39;49m\u001B[43mobserved\u001B[49m\u001B[43m,\u001B[49m\n\u001B[1;32m   2086\u001B[0m \u001B[43m    \u001B[49m\u001B[43mdropna\u001B[49m\u001B[38;5;241;43m=\u001B[39;49m\u001B[43mdropna\u001B[49m\u001B[43m,\u001B[49m\n\u001B[1;32m   2087\u001B[0m \u001B[43m\u001B[49m\u001B[43m)\u001B[49m\n",
      "File \u001B[0;32m/Library/Python/3.9/site-packages/pandas/core/groupby/groupby.py:965\u001B[0m, in \u001B[0;36mGroupBy.__init__\u001B[0;34m(self, obj, keys, axis, level, grouper, exclusions, selection, as_index, sort, group_keys, squeeze, observed, mutated, dropna)\u001B[0m\n\u001B[1;32m    962\u001B[0m \u001B[38;5;28;01mif\u001B[39;00m grouper \u001B[38;5;129;01mis\u001B[39;00m \u001B[38;5;28;01mNone\u001B[39;00m:\n\u001B[1;32m    963\u001B[0m     \u001B[38;5;28;01mfrom\u001B[39;00m \u001B[38;5;21;01mpandas\u001B[39;00m\u001B[38;5;21;01m.\u001B[39;00m\u001B[38;5;21;01mcore\u001B[39;00m\u001B[38;5;21;01m.\u001B[39;00m\u001B[38;5;21;01mgroupby\u001B[39;00m\u001B[38;5;21;01m.\u001B[39;00m\u001B[38;5;21;01mgrouper\u001B[39;00m \u001B[38;5;28;01mimport\u001B[39;00m get_grouper\n\u001B[0;32m--> 965\u001B[0m     grouper, exclusions, obj \u001B[38;5;241m=\u001B[39m \u001B[43mget_grouper\u001B[49m\u001B[43m(\u001B[49m\n\u001B[1;32m    966\u001B[0m \u001B[43m        \u001B[49m\u001B[43mobj\u001B[49m\u001B[43m,\u001B[49m\n\u001B[1;32m    967\u001B[0m \u001B[43m        \u001B[49m\u001B[43mkeys\u001B[49m\u001B[43m,\u001B[49m\n\u001B[1;32m    968\u001B[0m \u001B[43m        \u001B[49m\u001B[43maxis\u001B[49m\u001B[38;5;241;43m=\u001B[39;49m\u001B[43maxis\u001B[49m\u001B[43m,\u001B[49m\n\u001B[1;32m    969\u001B[0m \u001B[43m        \u001B[49m\u001B[43mlevel\u001B[49m\u001B[38;5;241;43m=\u001B[39;49m\u001B[43mlevel\u001B[49m\u001B[43m,\u001B[49m\n\u001B[1;32m    970\u001B[0m \u001B[43m        \u001B[49m\u001B[43msort\u001B[49m\u001B[38;5;241;43m=\u001B[39;49m\u001B[43msort\u001B[49m\u001B[43m,\u001B[49m\n\u001B[1;32m    971\u001B[0m \u001B[43m        \u001B[49m\u001B[43mobserved\u001B[49m\u001B[38;5;241;43m=\u001B[39;49m\u001B[43mobserved\u001B[49m\u001B[43m,\u001B[49m\n\u001B[1;32m    972\u001B[0m \u001B[43m        \u001B[49m\u001B[43mmutated\u001B[49m\u001B[38;5;241;43m=\u001B[39;49m\u001B[38;5;28;43mself\u001B[39;49m\u001B[38;5;241;43m.\u001B[39;49m\u001B[43mmutated\u001B[49m\u001B[43m,\u001B[49m\n\u001B[1;32m    973\u001B[0m \u001B[43m        \u001B[49m\u001B[43mdropna\u001B[49m\u001B[38;5;241;43m=\u001B[39;49m\u001B[38;5;28;43mself\u001B[39;49m\u001B[38;5;241;43m.\u001B[39;49m\u001B[43mdropna\u001B[49m\u001B[43m,\u001B[49m\n\u001B[1;32m    974\u001B[0m \u001B[43m    \u001B[49m\u001B[43m)\u001B[49m\n\u001B[1;32m    976\u001B[0m \u001B[38;5;28mself\u001B[39m\u001B[38;5;241m.\u001B[39mobj \u001B[38;5;241m=\u001B[39m obj\n\u001B[1;32m    977\u001B[0m \u001B[38;5;28mself\u001B[39m\u001B[38;5;241m.\u001B[39maxis \u001B[38;5;241m=\u001B[39m obj\u001B[38;5;241m.\u001B[39m_get_axis_number(axis)\n",
      "File \u001B[0;32m/Library/Python/3.9/site-packages/pandas/core/groupby/grouper.py:888\u001B[0m, in \u001B[0;36mget_grouper\u001B[0;34m(obj, key, axis, level, sort, observed, mutated, validate, dropna)\u001B[0m\n\u001B[1;32m    886\u001B[0m         in_axis, level, gpr \u001B[38;5;241m=\u001B[39m \u001B[38;5;28;01mFalse\u001B[39;00m, gpr, \u001B[38;5;28;01mNone\u001B[39;00m\n\u001B[1;32m    887\u001B[0m     \u001B[38;5;28;01melse\u001B[39;00m:\n\u001B[0;32m--> 888\u001B[0m         \u001B[38;5;28;01mraise\u001B[39;00m \u001B[38;5;167;01mKeyError\u001B[39;00m(gpr)\n\u001B[1;32m    889\u001B[0m \u001B[38;5;28;01melif\u001B[39;00m \u001B[38;5;28misinstance\u001B[39m(gpr, Grouper) \u001B[38;5;129;01mand\u001B[39;00m gpr\u001B[38;5;241m.\u001B[39mkey \u001B[38;5;129;01mis\u001B[39;00m \u001B[38;5;129;01mnot\u001B[39;00m \u001B[38;5;28;01mNone\u001B[39;00m:\n\u001B[1;32m    890\u001B[0m     \u001B[38;5;66;03m# Add key to exclusions\u001B[39;00m\n\u001B[1;32m    891\u001B[0m     exclusions\u001B[38;5;241m.\u001B[39madd(gpr\u001B[38;5;241m.\u001B[39mkey)\n",
      "\u001B[0;31mKeyError\u001B[0m: 'index'"
     ]
    }
   ],
   "source": [
    "all_pull_commit['commit.committer.date'].agg(['max', 'min']).groupby('index')"
   ],
   "metadata": {
    "collapsed": false
   }
  },
  {
   "cell_type": "code",
   "execution_count": 46,
   "outputs": [
    {
     "data": {
      "text/plain": "                                                                     min\nindex                                                                   \nhttps://api.github.com/repos/apache/hive/pulls/...  2020-03-04T22:39:33Z\nhttps://api.github.com/repos/apache/hive/pulls/...  2020-05-01T13:24:39Z\nhttps://api.github.com/repos/apache/hive/pulls/...  2020-05-01T22:34:08Z\nhttps://api.github.com/repos/apache/hive/pulls/...  2020-05-02T09:21:58Z\nhttps://api.github.com/repos/apache/hive/pulls/...  2020-05-06T01:40:26Z\n...                                                                  ...\nhttps://api.github.com/repos/apache/hive/pulls/...  2019-03-19T09:58:30Z\nhttps://api.github.com/repos/apache/hive/pulls/...  2020-04-25T14:04:41Z\nhttps://api.github.com/repos/apache/hive/pulls/...  2020-04-25T15:06:01Z\nhttps://api.github.com/repos/apache/hive/pulls/...  2020-04-28T13:24:25Z\nhttps://api.github.com/repos/apache/hive/pulls/...  2020-04-28T17:54:23Z\n\n[3236 rows x 1 columns]",
      "text/html": "<div>\n<style scoped>\n    .dataframe tbody tr th:only-of-type {\n        vertical-align: middle;\n    }\n\n    .dataframe tbody tr th {\n        vertical-align: top;\n    }\n\n    .dataframe thead th {\n        text-align: right;\n    }\n</style>\n<table border=\"1\" class=\"dataframe\">\n  <thead>\n    <tr style=\"text-align: right;\">\n      <th></th>\n      <th>min</th>\n    </tr>\n    <tr>\n      <th>index</th>\n      <th></th>\n    </tr>\n  </thead>\n  <tbody>\n    <tr>\n      <th>https://api.github.com/repos/apache/hive/pulls/1000/commits</th>\n      <td>2020-03-04T22:39:33Z</td>\n    </tr>\n    <tr>\n      <th>https://api.github.com/repos/apache/hive/pulls/1001/commits</th>\n      <td>2020-05-01T13:24:39Z</td>\n    </tr>\n    <tr>\n      <th>https://api.github.com/repos/apache/hive/pulls/1002/commits</th>\n      <td>2020-05-01T22:34:08Z</td>\n    </tr>\n    <tr>\n      <th>https://api.github.com/repos/apache/hive/pulls/1003/commits</th>\n      <td>2020-05-02T09:21:58Z</td>\n    </tr>\n    <tr>\n      <th>https://api.github.com/repos/apache/hive/pulls/1004/commits</th>\n      <td>2020-05-06T01:40:26Z</td>\n    </tr>\n    <tr>\n      <th>...</th>\n      <td>...</td>\n    </tr>\n    <tr>\n      <th>https://api.github.com/repos/apache/hive/pulls/994/commits</th>\n      <td>2019-03-19T09:58:30Z</td>\n    </tr>\n    <tr>\n      <th>https://api.github.com/repos/apache/hive/pulls/995/commits</th>\n      <td>2020-04-25T14:04:41Z</td>\n    </tr>\n    <tr>\n      <th>https://api.github.com/repos/apache/hive/pulls/996/commits</th>\n      <td>2020-04-25T15:06:01Z</td>\n    </tr>\n    <tr>\n      <th>https://api.github.com/repos/apache/hive/pulls/998/commits</th>\n      <td>2020-04-28T13:24:25Z</td>\n    </tr>\n    <tr>\n      <th>https://api.github.com/repos/apache/hive/pulls/999/commits</th>\n      <td>2020-04-28T17:54:23Z</td>\n    </tr>\n  </tbody>\n</table>\n<p>3236 rows × 1 columns</p>\n</div>"
     },
     "execution_count": 46,
     "metadata": {},
     "output_type": "execute_result"
    }
   ],
   "source": [
    "df_pull_commit.groupby('index')['commit.committer.date'].aggregate(['min'])"
   ],
   "metadata": {
    "collapsed": false
   }
  },
  {
   "cell_type": "code",
   "execution_count": null,
   "outputs": [],
   "source": [],
   "metadata": {
    "collapsed": false
   }
  }
 ],
 "metadata": {
  "kernelspec": {
   "display_name": "Python 3",
   "language": "python",
   "name": "python3"
  },
  "language_info": {
   "codemirror_mode": {
    "name": "ipython",
    "version": 2
   },
   "file_extension": ".py",
   "mimetype": "text/x-python",
   "name": "python",
   "nbconvert_exporter": "python",
   "pygments_lexer": "ipython2",
   "version": "2.7.6"
  }
 },
 "nbformat": 4,
 "nbformat_minor": 0
}
